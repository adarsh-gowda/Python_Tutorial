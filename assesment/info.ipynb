{
 "cells": [
  {
   "cell_type": "code",
   "execution_count": 41,
   "id": "2b100357",
   "metadata": {},
   "outputs": [],
   "source": [
    "sentence=\"I love programming in python\""
   ]
  },
  {
   "cell_type": "code",
   "execution_count": 24,
   "id": "5e8e3b8a",
   "metadata": {},
   "outputs": [
    {
     "name": "stdout",
     "output_type": "stream",
     "text": [
      "programming\n"
     ]
    }
   ],
   "source": [
    "longest=\"\"\n",
    "for i in sentence.split():\n",
    "    if len(i)>len(longest):\n",
    "        longest=i\n",
    "print(longest)\n"
   ]
  },
  {
   "cell_type": "code",
   "execution_count": 39,
   "id": "84df0555",
   "metadata": {},
   "outputs": [],
   "source": [
    "def longes(sentence):\n",
    "    word=sentence.split()\n",
    "    longest=max(word,  key=len)\n",
    "    return longest\n"
   ]
  },
  {
   "cell_type": "code",
   "execution_count": 2,
   "id": "68df93ae",
   "metadata": {},
   "outputs": [],
   "source": [
    "def longest(sentence):\n",
    "    words=sentence.split()\n",
    "    long=max(words,key=len)\n",
    "    return long"
   ]
  },
  {
   "cell_type": "code",
   "execution_count": 28,
   "id": "384e2fbc",
   "metadata": {},
   "outputs": [],
   "source": [
    "sentence=\"supercalifragilisticexpialidocious\""
   ]
  },
  {
   "cell_type": "code",
   "execution_count": 42,
   "id": "09dd6c86",
   "metadata": {},
   "outputs": [
    {
     "data": {
      "text/plain": [
       "'programming'"
      ]
     },
     "execution_count": 42,
     "metadata": {},
     "output_type": "execute_result"
    }
   ],
   "source": [
    "longes(sentence)"
   ]
  },
  {
   "cell_type": "markdown",
   "id": "830f9d6f",
   "metadata": {},
   "source": [
    "Find the Longest Word in a String\n",
    "Python string manipulation examples>>manipulation\n",
    "I love programming in Python >>programming"
   ]
  },
  {
   "cell_type": "markdown",
   "id": "46b8130a",
   "metadata": {},
   "source": [
    "* Longest Substring Without Repeating Characters\n",
    "* abcabcbb>>abc\n",
    "* bbbbb >>b\n",
    "* pwwkew >>wke"
   ]
  },
  {
   "cell_type": "code",
   "execution_count": 44,
   "id": "622a140d",
   "metadata": {},
   "outputs": [],
   "source": [
    "s=\"aabbcc\""
   ]
  },
  {
   "cell_type": "code",
   "execution_count": 52,
   "id": "e89e85d0",
   "metadata": {},
   "outputs": [
    {
     "name": "stdout",
     "output_type": "stream",
     "text": [
      "0\n",
      "a\n",
      "1\n",
      "1\n",
      "a\n",
      "1\n",
      "2\n",
      "b\n"
     ]
    },
    {
     "ename": "KeyError",
     "evalue": "'b'",
     "output_type": "error",
     "traceback": [
      "\u001b[31m---------------------------------------------------------------------------\u001b[39m",
      "\u001b[31mKeyError\u001b[39m                                  Traceback (most recent call last)",
      "\u001b[36mCell\u001b[39m\u001b[36m \u001b[39m\u001b[32mIn[52]\u001b[39m\u001b[32m, line 5\u001b[39m\n\u001b[32m      3\u001b[39m \u001b[38;5;28mprint\u001b[39m(i)\n\u001b[32m      4\u001b[39m \u001b[38;5;28mprint\u001b[39m(ch)\n\u001b[32m----> \u001b[39m\u001b[32m5\u001b[39m \u001b[38;5;28mprint\u001b[39m(\u001b[43msen\u001b[49m\u001b[43m[\u001b[49m\u001b[43mch\u001b[49m\u001b[43m]\u001b[49m)\n",
      "\u001b[31mKeyError\u001b[39m: 'b'"
     ]
    }
   ],
   "source": [
    "sen={\"a\":1}\n",
    "for i, ch in enumerate(s):\n",
    "    print(i)\n",
    "    print(ch)\n",
    "    print(sen[ch])"
   ]
  },
  {
   "cell_type": "markdown",
   "id": "aa91280b",
   "metadata": {},
   "source": []
  },
  {
   "cell_type": "code",
   "execution_count": 153,
   "id": "c81e02da",
   "metadata": {},
   "outputs": [],
   "source": [
    "def longest_sub_str(s):\n",
    "    sen={}\n",
    "    start=0\n",
    "    max_len=0\n",
    "    longest=\"\"\n",
    "\n",
    "    for i, ch in enumerate(s):\n",
    "        if ch in sen and sen[ch] >=start:\n",
    "            start=sen[ch]+1\n",
    "        sen[ch]= i\n",
    "\n",
    "        if i-start+ 1 > max_len:\n",
    "            max_len= i-start+1\n",
    "            longest=s[start:i+1]\n",
    "    return longest"
   ]
  },
  {
   "cell_type": "code",
   "execution_count": 154,
   "id": "a4a9e9f2",
   "metadata": {},
   "outputs": [
    {
     "data": {
      "text/plain": [
       "'wke'"
      ]
     },
     "execution_count": 154,
     "metadata": {},
     "output_type": "execute_result"
    }
   ],
   "source": [
    "longest_sub_str(\"pwwkew\")"
   ]
  },
  {
   "cell_type": "code",
   "execution_count": 169,
   "id": "57c21f1f",
   "metadata": {},
   "outputs": [
    {
     "name": "stdout",
     "output_type": "stream",
     "text": [
      "abc\n",
      "b\n",
      "wke\n"
     ]
    }
   ],
   "source": [
    "def longest_substring(s):\n",
    "    longest = \"\"\n",
    "    current = \"\"\n",
    "\n",
    "    for ch in s:\n",
    "        if ch in current:\n",
    "            # remove everything before and including the repeated char\n",
    "            current = current[current.index(ch) + 1:]\n",
    "        current += ch\n",
    "        if len(current) > len(longest):\n",
    "            longest = current\n",
    "    return longest\n",
    "\n",
    "\n",
    "# 🔹 Examples\n",
    "print(longest_substring(\"abcabcbb\"))  # → abc\n",
    "print(longest_substring(\"bbbbb\"))     # → b\n",
    "print(longest_substring(\"pwwkew\"))    # → wke\n"
   ]
  },
  {
   "cell_type": "code",
   "execution_count": 58,
   "id": "fdd434a3",
   "metadata": {},
   "outputs": [],
   "source": [
    "s=\"Python\""
   ]
  },
  {
   "cell_type": "code",
   "execution_count": 61,
   "id": "44346f8e",
   "metadata": {},
   "outputs": [],
   "source": [
    "rev=\"\"\n",
    "for i in s:\n",
    "    rev=i+rev\n"
   ]
  },
  {
   "cell_type": "code",
   "execution_count": 65,
   "id": "3ca86392",
   "metadata": {},
   "outputs": [],
   "source": [
    "def rev(s):\n",
    "    if len(s)==0:\n",
    "        return s\n",
    "    else:\n",
    "        return rev(s[1:])+s[0]\n"
   ]
  },
  {
   "cell_type": "code",
   "execution_count": 66,
   "id": "1c956b61",
   "metadata": {},
   "outputs": [
    {
     "data": {
      "text/plain": [
       "'ida'"
      ]
     },
     "execution_count": 66,
     "metadata": {},
     "output_type": "execute_result"
    }
   ],
   "source": [
    "rev(\"adi\")"
   ]
  },
  {
   "cell_type": "code",
   "execution_count": 67,
   "id": "1aab95a3",
   "metadata": {},
   "outputs": [],
   "source": [
    "s=\"hello world\""
   ]
  },
  {
   "cell_type": "code",
   "execution_count": 79,
   "id": "3e92155f",
   "metadata": {},
   "outputs": [],
   "source": [
    "def count_vowel(s):\n",
    "    vowel=0\n",
    "    const=0\n",
    "    for i in s.replace(\" \",\"\"):\n",
    "        if i in [\"a\",\"e\",\"i\",\"o\",\"u\"]:\n",
    "            vowel+=1\n",
    "        else:\n",
    "            const+=1\n",
    "    # return vowel,const\n",
    "    print(\"vowel:\", vowel, \"cononts:\",const)    \n",
    "\n",
    "    "
   ]
  },
  {
   "cell_type": "code",
   "execution_count": 80,
   "id": "9698b33e",
   "metadata": {},
   "outputs": [
    {
     "name": "stdout",
     "output_type": "stream",
     "text": [
      "vowel: 3 cononts: 7\n"
     ]
    }
   ],
   "source": [
    "count_vowel(s)"
   ]
  },
  {
   "cell_type": "code",
   "execution_count": null,
   "id": "df8a6c61",
   "metadata": {},
   "outputs": [
    {
     "name": "stdout",
     "output_type": "stream",
     "text": [
      "palindrome\n"
     ]
    }
   ],
   "source": [
    "s=\"ada\"\n",
    "i=0\n",
    "j=len(s)-1\n",
    "\n",
    "while(i<j):\n",
    "    if s[i]!=s[j]:\n",
    "        print(\"not palindrome\")\n",
    "        break\n",
    "    i+=1\n",
    "    j-=1\n",
    "else:\n",
    "    print(\"palindrome\")\n",
    "    "
   ]
  },
  {
   "cell_type": "code",
   "execution_count": 94,
   "id": "1cc545fd",
   "metadata": {},
   "outputs": [],
   "source": [
    "s=\"adi\""
   ]
  },
  {
   "cell_type": "code",
   "execution_count": 95,
   "id": "60d39199",
   "metadata": {},
   "outputs": [
    {
     "name": "stdout",
     "output_type": "stream",
     "text": [
      "not palindrome\n"
     ]
    }
   ],
   "source": [
    "if s==\"\".join(reversed(s)):\n",
    "    print(\"palindrome\")\n",
    "else:\n",
    "    print(\"not palindrome\")"
   ]
  },
  {
   "cell_type": "code",
   "execution_count": 96,
   "id": "73b21825",
   "metadata": {},
   "outputs": [],
   "source": [
    "def is_palindrome(s):\n",
    "    if len(s)<=1:\n",
    "        return \"palindrome\"\n",
    "    if s[0]!=s[-1]:\n",
    "        return \"not palindrome\"\n",
    "    return is_palindrome(s[1:-1])"
   ]
  },
  {
   "cell_type": "code",
   "execution_count": 98,
   "id": "f4e49e72",
   "metadata": {},
   "outputs": [
    {
     "data": {
      "text/plain": [
       "'palindrome'"
      ]
     },
     "execution_count": 98,
     "metadata": {},
     "output_type": "execute_result"
    }
   ],
   "source": [
    "is_palindrome(\"ada\")"
   ]
  },
  {
   "cell_type": "code",
   "execution_count": 99,
   "id": "974af940",
   "metadata": {},
   "outputs": [],
   "source": [
    "s=\"a b c\"\n"
   ]
  },
  {
   "cell_type": "code",
   "execution_count": 101,
   "id": "0f8792e1",
   "metadata": {},
   "outputs": [],
   "source": [
    "def remove_space(s):\n",
    "    return s.replace(\" \",\"\")\n"
   ]
  },
  {
   "cell_type": "code",
   "execution_count": 102,
   "id": "2d973cb5",
   "metadata": {},
   "outputs": [
    {
     "data": {
      "text/plain": [
       "'abc'"
      ]
     },
     "execution_count": 102,
     "metadata": {},
     "output_type": "execute_result"
    }
   ],
   "source": [
    "remove_space(s)"
   ]
  },
  {
   "cell_type": "code",
   "execution_count": 105,
   "id": "704f1148",
   "metadata": {},
   "outputs": [],
   "source": [
    "def remove_space(s):\n",
    "    result=\"\"\n",
    "    for ch in s:\n",
    "        if ch!=\" \":\n",
    "            result+=ch\n",
    "    return result"
   ]
  },
  {
   "cell_type": "code",
   "execution_count": 106,
   "id": "8ae5fc81",
   "metadata": {},
   "outputs": [
    {
     "data": {
      "text/plain": [
       "'abc'"
      ]
     },
     "execution_count": 106,
     "metadata": {},
     "output_type": "execute_result"
    }
   ],
   "source": [
    "remove_space(s)"
   ]
  },
  {
   "cell_type": "code",
   "execution_count": 142,
   "id": "ef5c9df0",
   "metadata": {},
   "outputs": [
    {
     "data": {
      "text/plain": [
       "'Welcome To Python'"
      ]
     },
     "execution_count": 142,
     "metadata": {},
     "output_type": "execute_result"
    }
   ],
   "source": [
    "s=\"welcome to python\"\n",
    "s.title()"
   ]
  },
  {
   "cell_type": "code",
   "execution_count": 127,
   "id": "99b04d42",
   "metadata": {},
   "outputs": [],
   "source": [
    "result = \" \".join([word.capitalize() for word in s.split()])\n",
    "    "
   ]
  },
  {
   "cell_type": "code",
   "execution_count": 128,
   "id": "aeaddaad",
   "metadata": {},
   "outputs": [
    {
     "data": {
      "text/plain": [
       "'Welcome To Python'"
      ]
     },
     "execution_count": 128,
     "metadata": {},
     "output_type": "execute_result"
    }
   ],
   "source": [
    "result"
   ]
  },
  {
   "cell_type": "code",
   "execution_count": 145,
   "id": "3b866896",
   "metadata": {},
   "outputs": [],
   "source": [
    "s=\"banana\"\n",
    "freq={}\n",
    "for ch in s:\n",
    "    freq[ch]=freq.get(ch,0)+1\n",
    "\n",
    "        "
   ]
  },
  {
   "cell_type": "code",
   "execution_count": 130,
   "id": "46d8bf40",
   "metadata": {},
   "outputs": [
    {
     "data": {
      "text/plain": [
       "{'b': 1, 'a': 3, 'n': 2}"
      ]
     },
     "execution_count": 130,
     "metadata": {},
     "output_type": "execute_result"
    }
   ],
   "source": [
    "freq"
   ]
  },
  {
   "cell_type": "code",
   "execution_count": null,
   "id": "6d3f87e7",
   "metadata": {},
   "outputs": [
    {
     "name": "stdout",
     "output_type": "stream",
     "text": [
      "{'b': 1, 'a': 3, 'n': 2}\n"
     ]
    }
   ],
   "source": [
    "def char_frequency(s):\n",
    "    return {ch: s.count(ch) for ch in set(s)}\n",
    "\n",
    "print(char_frequency(\"banana\")) \n"
   ]
  },
  {
   "cell_type": "code",
   "execution_count": 151,
   "id": "31d499af",
   "metadata": {},
   "outputs": [],
   "source": [
    "c={ch: s.count(ch) for ch in s}"
   ]
  },
  {
   "cell_type": "code",
   "execution_count": 152,
   "id": "f8fc5a88",
   "metadata": {},
   "outputs": [
    {
     "data": {
      "text/plain": [
       "{'b': 1, 'a': 3, 'n': 2}"
      ]
     },
     "execution_count": 152,
     "metadata": {},
     "output_type": "execute_result"
    }
   ],
   "source": [
    "c"
   ]
  },
  {
   "cell_type": "code",
   "execution_count": 159,
   "id": "95afab15",
   "metadata": {},
   "outputs": [
    {
     "data": {
      "text/plain": [
       "2"
      ]
     },
     "execution_count": 159,
     "metadata": {},
     "output_type": "execute_result"
    }
   ],
   "source": [
    "\n",
    "s=\"hellohello\"\n",
    "sub=\"lo\"\n",
    "s.count(sub)"
   ]
  },
  {
   "cell_type": "code",
   "execution_count": 156,
   "id": "afd905f4",
   "metadata": {},
   "outputs": [],
   "source": [
    "def count_sub(s,sub):\n",
    "    return s.count(sub)"
   ]
  },
  {
   "cell_type": "code",
   "execution_count": 164,
   "id": "ae98182f",
   "metadata": {},
   "outputs": [],
   "source": [
    "\n",
    "s=\"hellohello\"\n",
    "sub=\"lo\""
   ]
  },
  {
   "cell_type": "code",
   "execution_count": 167,
   "id": "a7430f5a",
   "metadata": {},
   "outputs": [
    {
     "name": "stdout",
     "output_type": "stream",
     "text": [
      "2\n"
     ]
    }
   ],
   "source": [
    "count=0\n",
    "i=0\n",
    "while (i<=len(s)-len(sub)):\n",
    "    if s[i:i+len(sub)]==sub:\n",
    "        count+=1\n",
    "    i+=1\n",
    "print(count)"
   ]
  },
  {
   "cell_type": "code",
   "execution_count": 170,
   "id": "8c37c2f0",
   "metadata": {},
   "outputs": [],
   "source": [
    "def count_sub(s,sub):\n",
    "    if len(s)<len(sub):\n",
    "        return 0\n",
    "    if s[:len(sub)]==sub:\n",
    "        return 1+count_sub(s[len(sub):],sub)\n",
    "    else:\n",
    "        return count_sub(s[1:],sub)"
   ]
  },
  {
   "cell_type": "code",
   "execution_count": 171,
   "id": "b5297711",
   "metadata": {},
   "outputs": [
    {
     "data": {
      "text/plain": [
       "2"
      ]
     },
     "execution_count": 171,
     "metadata": {},
     "output_type": "execute_result"
    }
   ],
   "source": [
    "count_sub(\"hellohello\",\"lo\")"
   ]
  },
  {
   "cell_type": "code",
   "execution_count": 173,
   "id": "405e5cdc",
   "metadata": {},
   "outputs": [],
   "source": [
    "\n",
    "s=\"programming\"\n"
   ]
  },
  {
   "cell_type": "code",
   "execution_count": 184,
   "id": "6531ac24",
   "metadata": {},
   "outputs": [],
   "source": [
    "def non_rep(s):\n",
    "    u=\"\"\n",
    "    for i in s:\n",
    "        if i not in u:\n",
    "            u+=i\n",
    "    return u\n",
    "\n"
   ]
  },
  {
   "cell_type": "code",
   "execution_count": 185,
   "id": "02129183",
   "metadata": {},
   "outputs": [
    {
     "data": {
      "text/plain": [
       "'progamin'"
      ]
     },
     "execution_count": 185,
     "metadata": {},
     "output_type": "execute_result"
    }
   ],
   "source": [
    "non_rep(s)"
   ]
  },
  {
   "cell_type": "code",
   "execution_count": 188,
   "id": "3970c390",
   "metadata": {},
   "outputs": [],
   "source": [
    "s=\"aabbcdde\"\n",
    "freq={}\n",
    "for ch in s:\n",
    "    freq[ch]=freq.get(ch,0)+1"
   ]
  },
  {
   "cell_type": "code",
   "execution_count": 189,
   "id": "b4d4611d",
   "metadata": {},
   "outputs": [
    {
     "data": {
      "text/plain": [
       "{'a': 2, 'b': 2, 'c': 1, 'd': 2, 'e': 1}"
      ]
     },
     "execution_count": 189,
     "metadata": {},
     "output_type": "execute_result"
    }
   ],
   "source": [
    "freq"
   ]
  },
  {
   "cell_type": "code",
   "execution_count": 202,
   "id": "64166e88",
   "metadata": {},
   "outputs": [
    {
     "name": "stdout",
     "output_type": "stream",
     "text": [
      "4\n"
     ]
    }
   ],
   "source": [
    "for ch in s:\n",
    "    if s.count(ch)==1:\n",
    "        print(s.index(ch))\n",
    "        break\n",
    "\n",
    "    "
   ]
  },
  {
   "cell_type": "code",
   "execution_count": 207,
   "id": "ed95e335",
   "metadata": {},
   "outputs": [],
   "source": [
    "def is_anagram(s1,s2):\n",
    "    return sorted(s1)==sorted(s2)"
   ]
  },
  {
   "cell_type": "code",
   "execution_count": null,
   "id": "b9e035fc",
   "metadata": {},
   "outputs": [
    {
     "ename": "NameError",
     "evalue": "name 'is_anagrams' is not defined",
     "output_type": "error",
     "traceback": [
      "\u001b[31m---------------------------------------------------------------------------\u001b[39m",
      "\u001b[31mNameError\u001b[39m                                 Traceback (most recent call last)",
      "\u001b[36mCell\u001b[39m\u001b[36m \u001b[39m\u001b[32mIn[212]\u001b[39m\u001b[32m, line 1\u001b[39m\n\u001b[32m----> \u001b[39m\u001b[32m1\u001b[39m \u001b[43mis_anagrams\u001b[49m(\u001b[33m\"\u001b[39m\u001b[33madi\u001b[39m\u001b[33m\"\u001b[39m,\u001b[33m\"\u001b[39m\u001b[33mdia\u001b[39m\u001b[33m\"\u001b[39m)\n",
      "\u001b[31mNameError\u001b[39m: name 'is_anagrams' is not defined"
     ]
    }
   ],
   "source": [
    "is_anagram(\"adi\",\"dia\")"
   ]
  },
  {
   "cell_type": "code",
   "execution_count": 214,
   "id": "43e1c7d9",
   "metadata": {},
   "outputs": [],
   "source": [
    "def is_anagrams(s1,s2):\n",
    "    if len(s1) !=len(s2):\n",
    "        return False\n",
    "    count={}\n",
    "    for ch in s1:\n",
    "        count[ch]=count.get(ch,0)+1\n",
    "    for ch in s2:\n",
    "        if ch in count:\n",
    "            count[ch]-=1\n",
    "        else:\n",
    "            return False\n",
    "    return all(v==0 for v in count.values())\n"
   ]
  },
  {
   "cell_type": "code",
   "execution_count": 215,
   "id": "e02f0e53",
   "metadata": {},
   "outputs": [
    {
     "data": {
      "text/plain": [
       "True"
      ]
     },
     "execution_count": 215,
     "metadata": {},
     "output_type": "execute_result"
    }
   ],
   "source": [
    "is_anagrams(\"adi\",\"dia\")"
   ]
  },
  {
   "cell_type": "code",
   "execution_count": 220,
   "id": "f9e8185a",
   "metadata": {},
   "outputs": [
    {
     "name": "stdout",
     "output_type": "stream",
     "text": [
      "pYtHoN\n"
     ]
    }
   ],
   "source": [
    "s=\"PyThOn\"\n",
    "# s.swapcase()\n",
    "\n",
    "\n",
    "r=\"\"\n",
    "for i in s:\n",
    "    if i.isupper():\n",
    "        r+=i.lower()\n",
    "    elif i.islower():\n",
    "        r+=i.upper()\n",
    "\n",
    "print(r)\n"
   ]
  },
  {
   "cell_type": "code",
   "execution_count": 235,
   "id": "c9dd9a7b",
   "metadata": {},
   "outputs": [],
   "source": [
    "s=\"I love programming in Python\"\n",
    "word=s.split()\n",
    "longest=max(word,key=len)"
   ]
  },
  {
   "cell_type": "code",
   "execution_count": 236,
   "id": "8b7bd9ab",
   "metadata": {},
   "outputs": [
    {
     "data": {
      "text/plain": [
       "'programming'"
      ]
     },
     "execution_count": 236,
     "metadata": {},
     "output_type": "execute_result"
    }
   ],
   "source": [
    "longest"
   ]
  },
  {
   "cell_type": "code",
   "execution_count": 239,
   "id": "26218e76",
   "metadata": {},
   "outputs": [
    {
     "name": "stdout",
     "output_type": "stream",
     "text": [
      "programming\n"
     ]
    }
   ],
   "source": [
    "long=\"\"\n",
    "for i in s.split():\n",
    "    if len(i)>len(long):\n",
    "        long=i\n",
    "print(long)"
   ]
  },
  {
   "cell_type": "code",
   "execution_count": 244,
   "id": "77dabf4f",
   "metadata": {},
   "outputs": [
    {
     "name": "stdout",
     "output_type": "stream",
     "text": [
      "digit: 3 letters: 3 special: 2\n"
     ]
    }
   ],
   "source": [
    "s = \"abc123@!\"\n",
    "let=dig=spc=0\n",
    "for i in s:\n",
    "    if i.isalpha():\n",
    "        let+=1\n",
    "    elif i.isdigit():\n",
    "        dig+=1\n",
    "    else:\n",
    "        spc+=1\n",
    "print(\"digit:\",dig,\"letters:\",let,\"special:\",spc)"
   ]
  },
  {
   "cell_type": "code",
   "execution_count": 247,
   "id": "1c9f9ae8",
   "metadata": {},
   "outputs": [],
   "source": [
    "s=\"hello world from python\"\n",
    "rev=\"\"\n",
    "for i in s.split():\n",
    "    rev=i+\" \"+rev\n"
   ]
  },
  {
   "cell_type": "code",
   "execution_count": 248,
   "id": "5e2666fe",
   "metadata": {},
   "outputs": [
    {
     "data": {
      "text/plain": [
       "'python from world hello '"
      ]
     },
     "execution_count": 248,
     "metadata": {},
     "output_type": "execute_result"
    }
   ],
   "source": [
    "rev"
   ]
  },
  {
   "cell_type": "code",
   "execution_count": 249,
   "id": "5dbd7cfe",
   "metadata": {},
   "outputs": [],
   "source": [
    "s= \"apple banana apple mango banana apple\""
   ]
  },
  {
   "cell_type": "code",
   "execution_count": 257,
   "id": "74702252",
   "metadata": {},
   "outputs": [
    {
     "name": "stdout",
     "output_type": "stream",
     "text": [
      "apple\n"
     ]
    }
   ],
   "source": [
    "count=0\n",
    "freq={}\n",
    "for i in s.split():\n",
    "    freq[i]=freq.get(i,0)+1\n",
    "    \n",
    "print(max(freq,key=freq.get))"
   ]
  },
  {
   "cell_type": "code",
   "execution_count": 267,
   "id": "a3a328bd",
   "metadata": {},
   "outputs": [],
   "source": [
    "def all_substirng(s):\n",
    "    result=[]\n",
    "    for i in range(len(s)):\n",
    "        for j in range(i+1,len(s)+1):\n",
    "            result.append(s[i:j])\n",
    "    return result"
   ]
  },
  {
   "cell_type": "code",
   "execution_count": 268,
   "id": "e2ab06f2",
   "metadata": {},
   "outputs": [
    {
     "name": "stdout",
     "output_type": "stream",
     "text": [
      "['a', 'ab', 'abc', 'b', 'bc', 'c']\n"
     ]
    }
   ],
   "source": [
    "print(all_substirng(\"abc\"))"
   ]
  },
  {
   "cell_type": "code",
   "execution_count": 284,
   "id": "f85375b2",
   "metadata": {},
   "outputs": [
    {
     "name": "stdout",
     "output_type": "stream",
     "text": [
      "a3b2c1"
     ]
    }
   ],
   "source": [
    "s=\"aaabbc\"\n",
    "frq={}\n",
    "for i in s:\n",
    "    frq[i]=frq.get(i,0)+1\n",
    "    \n",
    "for k,v in frq.items():\n",
    "    print(k+str(v),end=\"\")\n",
    "\n"
   ]
  },
  {
   "cell_type": "markdown",
   "id": "0ff080ad",
   "metadata": {},
   "source": []
  },
  {
   "cell_type": "code",
   "execution_count": 291,
   "id": "cff5eebc",
   "metadata": {},
   "outputs": [
    {
     "name": "stdout",
     "output_type": "stream",
     "text": [
      "a3b2c2d1\n"
     ]
    }
   ],
   "source": [
    "def compress_string(s):\n",
    "    result = \"\"\n",
    "    count = 1\n",
    "    \n",
    "    for i in range(1, len(s)):\n",
    "        if s[i] == s[i - 1]:\n",
    "            count += 1\n",
    "        else:\n",
    "            result += s[i - 1] + str(count)\n",
    "            count = 1\n",
    "    result += s[-1] + str(count)  # add last character\n",
    "    return result\n",
    "\n",
    "print(compress_string(\"aaabbccd\"))"
   ]
  },
  {
   "cell_type": "code",
   "execution_count": 307,
   "id": "91a502c7",
   "metadata": {},
   "outputs": [
    {
     "name": "stdout",
     "output_type": "stream",
     "text": [
      "ape\n"
     ]
    }
   ],
   "source": [
    "def common_chars(s1, s2):\n",
    "    result = \"\"\n",
    "    for ch in s1:\n",
    "        if ch in s2 and ch not in result:\n",
    "            result += ch\n",
    "    return result\n",
    "\n",
    "print(common_chars(\"apple\", \"peach\"))\n",
    "# Output: pea\n"
   ]
  },
  {
   "cell_type": "code",
   "execution_count": 306,
   "id": "bee2dfcf",
   "metadata": {},
   "outputs": [
    {
     "data": {
      "text/plain": [
       "'pae'"
      ]
     },
     "execution_count": 306,
     "metadata": {},
     "output_type": "execute_result"
    }
   ],
   "source": [
    "s1 = \"apple\"\n",
    "s2 = \"peach\"\n",
    "\"\".join(set(s1) & set(s2))"
   ]
  },
  {
   "cell_type": "code",
   "execution_count": 315,
   "id": "123d8387",
   "metadata": {},
   "outputs": [
    {
     "name": "stdout",
     "output_type": "stream",
     "text": [
      "cde\n"
     ]
    }
   ],
   "source": [
    "s=\"aabbcde\"\n",
    "st=\"\"\n",
    "for ch in s:\n",
    "    if s.count(ch)==1:\n",
    "        st+=ch\n",
    "\n",
    "print(st)"
   ]
  },
  {
   "cell_type": "code",
   "execution_count": 316,
   "id": "c4cfe2dc",
   "metadata": {},
   "outputs": [],
   "source": [
    "def rotate_k(s, k):\n",
    "    return s[k:]+s[0:k]"
   ]
  },
  {
   "cell_type": "code",
   "execution_count": 317,
   "id": "4c70fdbc",
   "metadata": {},
   "outputs": [
    {
     "data": {
      "text/plain": [
       "'cdefab'"
      ]
     },
     "execution_count": 317,
     "metadata": {},
     "output_type": "execute_result"
    }
   ],
   "source": [
    "rotate_k(\"abcdef\",2)"
   ]
  },
  {
   "cell_type": "code",
   "execution_count": 3,
   "id": "f12fce8a",
   "metadata": {},
   "outputs": [],
   "source": [
    "s = \"The quick brown fox 1 jumps over the lazy dog\"\n",
    "s=s.lower()"
   ]
  },
  {
   "cell_type": "code",
   "execution_count": 4,
   "id": "fa6e3d8d",
   "metadata": {},
   "outputs": [],
   "source": [
    "st=set(ch for ch in s if ch.isalpha())"
   ]
  },
  {
   "cell_type": "code",
   "execution_count": 335,
   "id": "f3fd8eca",
   "metadata": {},
   "outputs": [
    {
     "data": {
      "text/plain": [
       "True"
      ]
     },
     "execution_count": 335,
     "metadata": {},
     "output_type": "execute_result"
    }
   ],
   "source": [
    "len(st)==26"
   ]
  },
  {
   "cell_type": "code",
   "execution_count": null,
   "id": "6724f07d",
   "metadata": {},
   "outputs": [],
   "source": [
    "list1 = [1,'a',2,'1',3,4,'c']"
   ]
  },
  {
   "cell_type": "code",
   "execution_count": 7,
   "id": "9e16e72a",
   "metadata": {},
   "outputs": [
    {
     "data": {
      "text/plain": [
       "['t',\n",
       " 'h',\n",
       " 'e',\n",
       " 'q',\n",
       " 'u',\n",
       " 'i',\n",
       " 'c',\n",
       " 'k',\n",
       " 'b',\n",
       " 'r',\n",
       " 'o',\n",
       " 'w',\n",
       " 'n',\n",
       " 'f',\n",
       " 'o',\n",
       " 'x',\n",
       " 'j',\n",
       " 'u',\n",
       " 'm',\n",
       " 'p',\n",
       " 's',\n",
       " 'o',\n",
       " 'v',\n",
       " 'e',\n",
       " 'r',\n",
       " 't',\n",
       " 'h',\n",
       " 'e',\n",
       " 'l',\n",
       " 'a',\n",
       " 'z',\n",
       " 'y',\n",
       " 'd',\n",
       " 'o',\n",
       " 'g']"
      ]
     },
     "execution_count": 7,
     "metadata": {},
     "output_type": "execute_result"
    }
   ],
   "source": [
    "st"
   ]
  },
  {
   "cell_type": "code",
   "execution_count": null,
   "id": "cca48ba8",
   "metadata": {},
   "outputs": [],
   "source": []
  }
 ],
 "metadata": {
  "kernelspec": {
   "display_name": "Python 3",
   "language": "python",
   "name": "python3"
  },
  "language_info": {
   "codemirror_mode": {
    "name": "ipython",
    "version": 3
   },
   "file_extension": ".py",
   "mimetype": "text/x-python",
   "name": "python",
   "nbconvert_exporter": "python",
   "pygments_lexer": "ipython3",
   "version": "3.12.10"
  }
 },
 "nbformat": 4,
 "nbformat_minor": 5
}
