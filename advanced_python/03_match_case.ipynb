{
 "cells": [
  {
   "cell_type": "markdown",
   "id": "4adb0d7b",
   "metadata": {},
   "source": [
    "💡 Concept:\n",
    "\n",
    "Introduced in Python 3.10 — used like a switch statement in other languages.\n",
    "\n",
    "Example:"
   ]
  },
  {
   "cell_type": "code",
   "execution_count": 3,
   "id": "74bafc8d",
   "metadata": {},
   "outputs": [
    {
     "name": "stdout",
     "output_type": "stream",
     "text": [
      "Unknown command\n"
     ]
    }
   ],
   "source": [
    "command = \"a\"\n",
    "\n",
    "match command:\n",
    "    case \"start\":\n",
    "        print(\"Starting the engine...\")\n",
    "    case \"stop\":\n",
    "        print(\"Stopping the engine...\")\n",
    "    case _:\n",
    "        print(\"Unknown command\")"
   ]
  },
  {
   "cell_type": "code",
   "execution_count": 6,
   "id": "687273e5",
   "metadata": {},
   "outputs": [
    {
     "name": "stdout",
     "output_type": "stream",
     "text": [
      "It's a Weekday.\n"
     ]
    }
   ],
   "source": [
    "day = input(\"Enter the day name: \").lower()\n",
    "\n",
    "match day:\n",
    "    case \"monday\" | \"tuesday\" | \"wednesday\" | \"thursday\" | \"friday\":\n",
    "        print(\"It's a Weekday.\")\n",
    "    case \"saturday\" | \"sunday\":\n",
    "        print(\"It's a Weekend.\")\n",
    "    case _:\n",
    "        print(\"Invalid day entered.\")\n"
   ]
  },
  {
   "cell_type": "code",
   "execution_count": 8,
   "id": "b0b71fb5",
   "metadata": {},
   "outputs": [
    {
     "name": "stdout",
     "output_type": "stream",
     "text": [
      "Result: -1.0\n"
     ]
    }
   ],
   "source": [
    "\n",
    "num1 = float(input(\"Enter first number: \"))\n",
    "num2 = float(input(\"Enter second number: \"))\n",
    "op = input(\"Enter operator (+, -, *, /): \")\n",
    "\n",
    "match op:\n",
    "    case '+':\n",
    "        print(f\"Result: {num1 + num2}\")\n",
    "    case '-':\n",
    "        print(f\"Result: {num1 - num2}\")\n",
    "    case '*':\n",
    "        print(f\"Result: {num1 * num2}\")\n",
    "    case '/':\n",
    "        if num2 != 0:\n",
    "            print(f\"Result: {num1 / num2}\")\n",
    "        else:\n",
    "            print(\"Error: Division by zero is not allowed.\")\n",
    "    case _:\n",
    "        print(\"Invalid operator entered.\")"
   ]
  },
  {
   "cell_type": "code",
   "execution_count": null,
   "id": "25875c64",
   "metadata": {},
   "outputs": [],
   "source": []
  }
 ],
 "metadata": {
  "kernelspec": {
   "display_name": "Python 3",
   "language": "python",
   "name": "python3"
  },
  "language_info": {
   "codemirror_mode": {
    "name": "ipython",
    "version": 3
   },
   "file_extension": ".py",
   "mimetype": "text/x-python",
   "name": "python",
   "nbconvert_exporter": "python",
   "pygments_lexer": "ipython3",
   "version": "3.12.10"
  }
 },
 "nbformat": 4,
 "nbformat_minor": 5
}
