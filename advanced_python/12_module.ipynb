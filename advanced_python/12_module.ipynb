{
 "cells": [
  {
   "cell_type": "markdown",
   "id": "f80b5776",
   "metadata": {},
   "source": [
    "💡 Concept:\n",
    "\n",
    "Modules = separate Python files with reusable code."
   ]
  },
  {
   "cell_type": "code",
   "execution_count": 3,
   "id": "4955c910",
   "metadata": {},
   "outputs": [],
   "source": [
    "# math_utils.py\n",
    "def add(a, b):\n",
    "    return a + b\n"
   ]
  },
  {
   "cell_type": "code",
   "execution_count": null,
   "id": "3720528b",
   "metadata": {},
   "outputs": [],
   "source": [
    "# main.py\n",
    "import math_utils\n",
    "print(math_utils.add(3, 4))\n"
   ]
  }
 ],
 "metadata": {
  "kernelspec": {
   "display_name": "Python 3",
   "language": "python",
   "name": "python3"
  },
  "language_info": {
   "codemirror_mode": {
    "name": "ipython",
    "version": 3
   },
   "file_extension": ".py",
   "mimetype": "text/x-python",
   "name": "python",
   "nbconvert_exporter": "python",
   "pygments_lexer": "ipython3",
   "version": "3.12.10"
  }
 },
 "nbformat": 4,
 "nbformat_minor": 5
}
