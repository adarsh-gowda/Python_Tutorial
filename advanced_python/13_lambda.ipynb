{
 "cells": [
  {
   "cell_type": "markdown",
   "id": "1e6368f5",
   "metadata": {},
   "source": [
    "Concept\n",
    "\n",
    "lambda creates anonymous (nameless) functions in Python: lambda args: expression.\n",
    "\n",
    "When to use\n",
    "\n",
    "Small one-line functions for callbacks or as arguments to map, filter, sorted, etc."
   ]
  },
  {
   "cell_type": "code",
   "execution_count": 2,
   "id": "27f47721",
   "metadata": {},
   "outputs": [
    {
     "name": "stdout",
     "output_type": "stream",
     "text": [
      "25\n",
      "[1, 4, 9, 16]\n"
     ]
    }
   ],
   "source": [
    "square = lambda x: x * x\n",
    "print(square(5))  # 25\n",
    "\n",
    "# with map\n",
    "nums = [1,2,3,4]\n",
    "squares = list(map(lambda n: n*n, nums))\n",
    "print(squares)\n"
   ]
  },
  {
   "cell_type": "code",
   "execution_count": null,
   "id": "ee296ee0",
   "metadata": {},
   "outputs": [],
   "source": []
  }
 ],
 "metadata": {
  "kernelspec": {
   "display_name": "Python 3",
   "language": "python",
   "name": "python3"
  },
  "language_info": {
   "codemirror_mode": {
    "name": "ipython",
    "version": 3
   },
   "file_extension": ".py",
   "mimetype": "text/x-python",
   "name": "python",
   "nbconvert_exporter": "python",
   "pygments_lexer": "ipython3",
   "version": "3.12.10"
  }
 },
 "nbformat": 4,
 "nbformat_minor": 5
}
