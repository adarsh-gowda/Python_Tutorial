{
 "cells": [
  {
   "cell_type": "markdown",
   "id": "b4ec63a9",
   "metadata": {},
   "source": [
    "1️⃣ 01_walrus.py – Walrus Operator (:=)\n",
    "\n",
    "##### The walrus operator (:=) lets you assign a value to a variable inside an expression."
   ]
  },
  {
   "cell_type": "code",
   "execution_count": 4,
   "id": "2a8d6fa3",
   "metadata": {},
   "outputs": [],
   "source": [
    "data={2,3,4,4,5,6,7,8}"
   ]
  },
  {
   "cell_type": "markdown",
   "id": "2dbd9a14",
   "metadata": {},
   "source": [
    "Instead of:"
   ]
  },
  {
   "cell_type": "code",
   "execution_count": 5,
   "id": "362854b1",
   "metadata": {},
   "outputs": [
    {
     "name": "stdout",
     "output_type": "stream",
     "text": [
      "List has 7 items\n"
     ]
    }
   ],
   "source": [
    "n = len(data)\n",
    "if n > 5:\n",
    "    print(f\"List has {n} items\")\n"
   ]
  },
  {
   "cell_type": "markdown",
   "id": "ff2d6925",
   "metadata": {},
   "source": [
    "You can write:"
   ]
  },
  {
   "cell_type": "code",
   "execution_count": 8,
   "id": "0ce694c2",
   "metadata": {},
   "outputs": [
    {
     "name": "stdout",
     "output_type": "stream",
     "text": [
      "List has 7 items\n"
     ]
    }
   ],
   "source": [
    "if (n := len(data)) > 5:\n",
    "    print(f\"List has {n} items\")\n"
   ]
  },
  {
   "cell_type": "markdown",
   "id": "104b3a9e",
   "metadata": {},
   "source": [
    "🧠 Exercises:\n",
    "\n",
    "1.  Write a program that takes user input until it’s \"stop\", using a while loop and walrus operator."
   ]
  },
  {
   "cell_type": "code",
   "execution_count": 22,
   "id": "c7d26c3a",
   "metadata": {},
   "outputs": [
    {
     "name": "stdout",
     "output_type": "stream",
     "text": [
      "adi\n",
      "mithun\n"
     ]
    }
   ],
   "source": [
    "while (n := input(\"Enter: \")) != \"stop\":\n",
    "    print(n)"
   ]
  },
  {
   "cell_type": "markdown",
   "id": "3d429f91",
   "metadata": {},
   "source": [
    "2. Use the walrus operator to find and print only numbers whose square is greater than 50 from a list."
   ]
  },
  {
   "cell_type": "code",
   "execution_count": 20,
   "id": "4c61bc35",
   "metadata": {},
   "outputs": [
    {
     "name": "stdout",
     "output_type": "stream",
     "text": [
      "[8, 9, 10, 11]\n"
     ]
    }
   ],
   "source": [
    "data1=[1,2,3,4,5,6,7,8,9,10,11]\n",
    "lst=[]\n",
    "for i in data1:\n",
    "    if (sq:= i**2)>50:\n",
    "        lst.append(i)\n",
    "\n",
    "print(lst)"
   ]
  },
  {
   "cell_type": "code",
   "execution_count": 25,
   "id": "e9bbcf36",
   "metadata": {},
   "outputs": [
    {
     "name": "stdout",
     "output_type": "stream",
     "text": [
      "['python', 'machine']\n"
     ]
    }
   ],
   "source": [
    "data=[\"ai\", \"python\", \"machine\", \"data\"] \n",
    "lst=[]\n",
    "for i in data:\n",
    "    if (lt:=len(i)>5):\n",
    "        lst.append(i)\n",
    "print(lst)\n"
   ]
  },
  {
   "cell_type": "code",
   "execution_count": null,
   "id": "9002caef",
   "metadata": {},
   "outputs": [],
   "source": []
  }
 ],
 "metadata": {
  "kernelspec": {
   "display_name": "Python 3",
   "language": "python",
   "name": "python3"
  },
  "language_info": {
   "codemirror_mode": {
    "name": "ipython",
    "version": 3
   },
   "file_extension": ".py",
   "mimetype": "text/x-python",
   "name": "python",
   "nbconvert_exporter": "python",
   "pygments_lexer": "ipython3",
   "version": "3.12.10"
  }
 },
 "nbformat": 4,
 "nbformat_minor": 5
}
