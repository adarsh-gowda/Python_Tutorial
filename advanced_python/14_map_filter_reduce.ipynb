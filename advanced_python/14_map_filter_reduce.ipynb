{
 "cells": [
  {
   "cell_type": "markdown",
   "id": "74c50192",
   "metadata": {},
   "source": [
    "Concepts\n",
    "\n",
    "* map: transform each item in an iterable.\n",
    "\n",
    "* filter: keep items where predicate is True.\n",
    "\n",
    "* reduce (from functools): aggregate items to a single value."
   ]
  },
  {
   "cell_type": "code",
   "execution_count": 5,
   "id": "904a4f00",
   "metadata": {},
   "outputs": [
    {
     "name": "stdout",
     "output_type": "stream",
     "text": [
      "[1, 4, 9, 16, 25]\n",
      "[2, 4]\n",
      "120\n"
     ]
    }
   ],
   "source": [
    "from functools import reduce\n",
    "\n",
    "nums = [1,2,3,4,5]\n",
    "\n",
    "# map: squares\n",
    "squares = list(map(lambda x: x*x, nums))\n",
    "\n",
    "# filter: evens only\n",
    "evens = list(filter(lambda x: x%2==0, nums))\n",
    "\n",
    "# reduce: product\n",
    "prod = reduce(lambda a,b: a*b, nums, 1)  # 120\n",
    "print(squares)\n",
    "print(evens)\n",
    "print(prod)\n"
   ]
  },
  {
   "cell_type": "code",
   "execution_count": 6,
   "id": "a85d2118",
   "metadata": {},
   "outputs": [],
   "source": [
    "num=[2,3,4,5]"
   ]
  },
  {
   "cell_type": "code",
   "execution_count": 15,
   "id": "7713a938",
   "metadata": {},
   "outputs": [
    {
     "data": {
      "text/plain": [
       "4"
      ]
     },
     "execution_count": 15,
     "metadata": {},
     "output_type": "execute_result"
    }
   ],
   "source": [
    "num[0]"
   ]
  },
  {
   "cell_type": "code",
   "execution_count": 14,
   "id": "368585ef",
   "metadata": {},
   "outputs": [
    {
     "name": "stdout",
     "output_type": "stream",
     "text": [
      "(64, 27, 64, 125)\n"
     ]
    }
   ],
   "source": [
    "cubes=tuple(map(lambda x: x**3,num))\n",
    "print(cubes)"
   ]
  },
  {
   "cell_type": "code",
   "execution_count": 12,
   "id": "afa0700f",
   "metadata": {},
   "outputs": [],
   "source": [
    "data = [(1, 5), (3, 1), (2, 8), (4, 2)]"
   ]
  },
  {
   "cell_type": "code",
   "execution_count": null,
   "id": "51e14d3a",
   "metadata": {},
   "outputs": [],
   "source": [
    "sort=sorted(data,key=lambda x:x[1])\n",
    "sort"
   ]
  },
  {
   "cell_type": "code",
   "execution_count": 31,
   "id": "86b933bf",
   "metadata": {},
   "outputs": [
    {
     "data": {
      "text/plain": [
       "['n', 'a', 'r', 'e']"
      ]
     },
     "execution_count": 31,
     "metadata": {},
     "output_type": "execute_result"
    }
   ],
   "source": [
    "names = [\"python\", \"lambda\", \"filter\", \"reduce\"]\n",
    "\n",
    "last_ch=list(map(lambda x: x[-1], names))\n",
    "last_ch\n"
   ]
  },
  {
   "cell_type": "code",
   "execution_count": 33,
   "id": "72f95218",
   "metadata": {},
   "outputs": [
    {
     "data": {
      "text/plain": [
       "['Odd', 'Even', 'Odd', 'Even']"
      ]
     },
     "execution_count": 33,
     "metadata": {},
     "output_type": "execute_result"
    }
   ],
   "source": [
    "data=[3, 6, 9, 12]\n",
    "lst=list(map(lambda x:\"Even\" if x % 2 == 0 else \"Odd\",data))\n",
    "lst"
   ]
  },
  {
   "cell_type": "code",
   "execution_count": 38,
   "id": "0165ba87",
   "metadata": {},
   "outputs": [
    {
     "data": {
      "text/plain": [
       "[32.0, 50.0, 68.0, 86.0, 104.0]"
      ]
     },
     "execution_count": 38,
     "metadata": {},
     "output_type": "execute_result"
    }
   ],
   "source": [
    "celc=[0, 10, 20, 30, 40]\n",
    "farh=list(map(lambda x : ((9/5)*x)+32,celc))\n",
    "farh\n"
   ]
  },
  {
   "cell_type": "code",
   "execution_count": 40,
   "id": "e13aec95",
   "metadata": {},
   "outputs": [
    {
     "data": {
      "text/plain": [
       "[6, 3, 6, 6]"
      ]
     },
     "execution_count": 40,
     "metadata": {},
     "output_type": "execute_result"
    }
   ],
   "source": [
    "words = [\"lambda\", \"map\", \"filter\", \"reduce\"]\n",
    "leng=list(map(lambda x: len(x),words))\n",
    "leng"
   ]
  },
  {
   "cell_type": "code",
   "execution_count": 42,
   "id": "6bde4166",
   "metadata": {},
   "outputs": [
    {
     "data": {
      "text/plain": [
       "[1, 8, 9, 64, 25]"
      ]
     },
     "execution_count": 42,
     "metadata": {},
     "output_type": "execute_result"
    }
   ],
   "source": [
    "nums = [1, 2, 3, 4, 5]\n",
    "exp=list(map(lambda x: x**3 if x%2==0 else x**2,nums))\n",
    "exp"
   ]
  },
  {
   "cell_type": "markdown",
   "id": "bfd0790e",
   "metadata": {},
   "source": [
    "🔍 Filter Exercises"
   ]
  },
  {
   "cell_type": "code",
   "execution_count": 44,
   "id": "299b9b35",
   "metadata": {},
   "outputs": [
    {
     "data": {
      "text/plain": [
       "[2, 4, 6, 8, 10]"
      ]
     },
     "execution_count": 44,
     "metadata": {},
     "output_type": "execute_result"
    }
   ],
   "source": [
    "nums = [1,2,3,4,5,6,7,8,9,10]\n",
    "even=list(filter(lambda x: x%2==0,nums))\n",
    "even"
   ]
  },
  {
   "cell_type": "code",
   "execution_count": 46,
   "id": "134214c5",
   "metadata": {},
   "outputs": [
    {
     "data": {
      "text/plain": [
       "['Alice', 'Ankit', 'Arun']"
      ]
     },
     "execution_count": 46,
     "metadata": {},
     "output_type": "execute_result"
    }
   ],
   "source": [
    "names = [\"Alice\", \"Bob\", \"Ankit\", \"Arun\", \"Charlie\"]\n",
    "start_A=list(filter(lambda x: x.startswith(\"A\"),names))\n",
    "start_A"
   ]
  },
  {
   "cell_type": "code",
   "execution_count": null,
   "id": "08c3c921",
   "metadata": {},
   "outputs": [],
   "source": [
    "words = [\"madam\", \"python\", \"level\", \"radar\", \"hello\"]\n",
    "palindrome=list(filter(lambda x: x))"
   ]
  },
  {
   "cell_type": "code",
   "execution_count": 48,
   "id": "2cf86c3f",
   "metadata": {},
   "outputs": [
    {
     "data": {
      "text/plain": [
       "['hi', 'python', 'lambda']"
      ]
     },
     "execution_count": 48,
     "metadata": {},
     "output_type": "execute_result"
    }
   ],
   "source": [
    "data = [\"hi\", \"\", \"python\", \"\", \"lambda\"]\n",
    "lst=list(filter(lambda x: len(x)>0,data))\n",
    "lst"
   ]
  },
  {
   "cell_type": "markdown",
   "id": "3cff44be",
   "metadata": {},
   "source": [
    "🧮 Reduce Exercises"
   ]
  },
  {
   "cell_type": "code",
   "execution_count": 62,
   "id": "f1e940e9",
   "metadata": {},
   "outputs": [
    {
     "name": "stdout",
     "output_type": "stream",
     "text": [
      "10080\n",
      "35\n"
     ]
    }
   ],
   "source": [
    "nums = [3, 8, 12, 5, 7]\n",
    "suum=reduce(lambda a,b:a+b,nums)\n",
    "prod=reduce(lambda a,b:a*b,nums)\n",
    "print(prod)\n",
    "print(suum)"
   ]
  },
  {
   "cell_type": "code",
   "execution_count": 58,
   "id": "d836cd01",
   "metadata": {},
   "outputs": [
    {
     "data": {
      "text/plain": [
       "4"
      ]
     },
     "execution_count": 58,
     "metadata": {},
     "output_type": "execute_result"
    }
   ],
   "source": [
    "nums=[1,2,3,4,5,6,7,8]\n",
    "\n",
    "# use reduce to count evens\n",
    "count_evens = reduce(lambda acc, x: acc + (1 if x % 2 == 0 else 0), nums,0)\n",
    "count_evens"
   ]
  },
  {
   "cell_type": "code",
   "execution_count": 67,
   "id": "391ad611",
   "metadata": {},
   "outputs": [
    {
     "name": "stdout",
     "output_type": "stream",
     "text": [
      "Python is awesome\n"
     ]
    }
   ],
   "source": [
    "words = [\"Python\", \"is\", \"awesome\"]\n",
    "s = ' '.join(words)  # \"hello world\"\n",
    "print(s)\n"
   ]
  },
  {
   "cell_type": "code",
   "execution_count": 72,
   "id": "f6ee9480",
   "metadata": {},
   "outputs": [
    {
     "data": {
      "text/plain": [
       "'Python is awesome'"
      ]
     },
     "execution_count": 72,
     "metadata": {},
     "output_type": "execute_result"
    }
   ],
   "source": [
    "joining=reduce(lambda a,b: a +\" \"+b,words)\n",
    "joining"
   ]
  },
  {
   "cell_type": "code",
   "execution_count": 75,
   "id": "a76471bf",
   "metadata": {},
   "outputs": [
    {
     "data": {
      "text/plain": [
       "'w'"
      ]
     },
     "execution_count": 75,
     "metadata": {},
     "output_type": "execute_result"
    }
   ],
   "source": [
    "s = \"swiss\"\n",
    "\n",
    "# Step 1: Filter characters that appear only once\n",
    "unique_chars = list(filter(lambda c: s.count(c) == 1, s))\n",
    "first_unique = unique_chars[0]\n",
    "first_unique"
   ]
  },
  {
   "cell_type": "code",
   "execution_count": null,
   "id": "0ffd16bb",
   "metadata": {},
   "outputs": [],
   "source": []
  }
 ],
 "metadata": {
  "kernelspec": {
   "display_name": "Python 3",
   "language": "python",
   "name": "python3"
  },
  "language_info": {
   "codemirror_mode": {
    "name": "ipython",
    "version": 3
   },
   "file_extension": ".py",
   "mimetype": "text/x-python",
   "name": "python",
   "nbconvert_exporter": "python",
   "pygments_lexer": "ipython3",
   "version": "3.12.10"
  }
 },
 "nbformat": 4,
 "nbformat_minor": 5
}
