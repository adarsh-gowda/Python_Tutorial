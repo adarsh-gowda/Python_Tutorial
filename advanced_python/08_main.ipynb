{
 "cells": [
  {
   "cell_type": "markdown",
   "id": "c7fff4b9",
   "metadata": {},
   "source": [
    "💡 Concept:\n",
    "\n",
    "Used to check if a file is run directly or imported."
   ]
  },
  {
   "cell_type": "code",
   "execution_count": 1,
   "id": "bac939ae",
   "metadata": {},
   "outputs": [
    {
     "name": "stdout",
     "output_type": "stream",
     "text": [
      "Hello from module\n"
     ]
    }
   ],
   "source": [
    "def greet():\n",
    "    print(\"Hello from module\")\n",
    "\n",
    "if __name__ == \"__main__\":\n",
    "    greet()  # runs only when file executed directly\n"
   ]
  }
 ],
 "metadata": {
  "kernelspec": {
   "display_name": "Python 3",
   "language": "python",
   "name": "python3"
  },
  "language_info": {
   "codemirror_mode": {
    "name": "ipython",
    "version": 3
   },
   "file_extension": ".py",
   "mimetype": "text/x-python",
   "name": "python",
   "nbconvert_exporter": "python",
   "pygments_lexer": "ipython3",
   "version": "3.12.10"
  }
 },
 "nbformat": 4,
 "nbformat_minor": 5
}
