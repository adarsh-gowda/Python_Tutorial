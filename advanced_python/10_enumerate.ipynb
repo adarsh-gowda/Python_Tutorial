{
 "cells": [
  {
   "cell_type": "markdown",
   "id": "91f78c41",
   "metadata": {},
   "source": [
    "💡 Concept:\n",
    "\n",
    "enumerate() lets you loop through a list with indexes."
   ]
  },
  {
   "cell_type": "code",
   "execution_count": 1,
   "id": "13897773",
   "metadata": {},
   "outputs": [
    {
     "name": "stdout",
     "output_type": "stream",
     "text": [
      "0 apple\n",
      "1 banana\n",
      "2 cherry\n"
     ]
    }
   ],
   "source": [
    "fruits = [\"apple\", \"banana\", \"cherry\"]\n",
    "for index, fruit in enumerate(fruits):\n",
    "    print(index, fruit)\n"
   ]
  },
  {
   "cell_type": "code",
   "execution_count": 26,
   "id": "4451fd9b",
   "metadata": {},
   "outputs": [
    {
     "name": "stdout",
     "output_type": "stream",
     "text": [
      "1\n",
      "first non repeated charcter is 'w' with '1'\n"
     ]
    }
   ],
   "source": [
    "wrd=\"swiss\"\n",
    "count={}\n",
    "\n",
    "for ltr in wrd:\n",
    "    count[ltr]=count.get(ltr,0)+1\n",
    "\n",
    "for index ,ltr in enumerate(wrd):\n",
    "    if count[ltr] ==1:\n",
    "        print(index)\n",
    "        print(f\"first non repeated charcter is '{ltr}' with '{count[ltr]}'\")\n",
    "        break\n"
   ]
  },
  {
   "cell_type": "code",
   "execution_count": null,
   "id": "1558b4af",
   "metadata": {},
   "outputs": [],
   "source": []
  }
 ],
 "metadata": {
  "kernelspec": {
   "display_name": "Python 3",
   "language": "python",
   "name": "python3"
  },
  "language_info": {
   "codemirror_mode": {
    "name": "ipython",
    "version": 3
   },
   "file_extension": ".py",
   "mimetype": "text/x-python",
   "name": "python",
   "nbconvert_exporter": "python",
   "pygments_lexer": "ipython3",
   "version": "3.12.10"
  }
 },
 "nbformat": 4,
 "nbformat_minor": 5
}
