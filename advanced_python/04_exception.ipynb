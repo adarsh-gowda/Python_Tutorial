{
 "cells": [
  {
   "cell_type": "markdown",
   "id": "d986039c",
   "metadata": {},
   "source": [
    "💡 Concept:\n",
    "\n",
    "Exceptions occur when something goes wrong in your program (e.g., divide by zero)."
   ]
  },
  {
   "cell_type": "code",
   "execution_count": 1,
   "id": "db5d15ce",
   "metadata": {},
   "outputs": [
    {
     "name": "stdout",
     "output_type": "stream",
     "text": [
      "Cannot divide by zero!\n"
     ]
    }
   ],
   "source": [
    "try:\n",
    "    result = 10 / 0\n",
    "except ZeroDivisionError:\n",
    "    print(\"Cannot divide by zero!\")\n"
   ]
  },
  {
   "cell_type": "code",
   "execution_count": 6,
   "id": "160efdd9",
   "metadata": {},
   "outputs": [
    {
     "name": "stdout",
     "output_type": "stream",
     "text": [
      "2.0\n"
     ]
    }
   ],
   "source": [
    "try:\n",
    "    x = int(input(\"Enter a number: \"))\n",
    "    print(10 / x)\n",
    "except ValueError:\n",
    "    print(\"You must enter a number!\")\n",
    "except ZeroDivisionError:\n",
    "    print(\"Cannot divide by zero!\")\n",
    "\n"
   ]
  },
  {
   "cell_type": "code",
   "execution_count": null,
   "id": "c1cafe7c",
   "metadata": {},
   "outputs": [],
   "source": []
  }
 ],
 "metadata": {
  "kernelspec": {
   "display_name": "Python 3",
   "language": "python",
   "name": "python3"
  },
  "language_info": {
   "codemirror_mode": {
    "name": "ipython",
    "version": 3
   },
   "file_extension": ".py",
   "mimetype": "text/x-python",
   "name": "python",
   "nbconvert_exporter": "python",
   "pygments_lexer": "ipython3",
   "version": "3.12.10"
  }
 },
 "nbformat": 4,
 "nbformat_minor": 5
}
