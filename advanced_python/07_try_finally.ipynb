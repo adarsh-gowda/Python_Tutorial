{
 "cells": [
  {
   "cell_type": "markdown",
   "id": "4d3654aa",
   "metadata": {},
   "source": [
    "💡 Concept:\n",
    "\n",
    "finally runs no matter what happens (error or not).\n",
    "Useful for cleaning up (closing files, releasing resources, etc.)"
   ]
  },
  {
   "cell_type": "code",
   "execution_count": 3,
   "id": "b89d0340",
   "metadata": {},
   "outputs": [
    {
     "name": "stdout",
     "output_type": "stream",
     "text": [
      "Execution complete.\n"
     ]
    }
   ],
   "source": [
    "try:\n",
    "    file = open(\"data.txt\", \"r\")\n",
    "except FileNotFoundError:\n",
    "    print(\"File not found.\")\n",
    "finally:\n",
    "    print(\"Execution complete.\")\n"
   ]
  },
  {
   "cell_type": "code",
   "execution_count": null,
   "id": "140c1788",
   "metadata": {},
   "outputs": [],
   "source": []
  }
 ],
 "metadata": {
  "kernelspec": {
   "display_name": "Python 3",
   "language": "python",
   "name": "python3"
  },
  "language_info": {
   "codemirror_mode": {
    "name": "ipython",
    "version": 3
   },
   "file_extension": ".py",
   "mimetype": "text/x-python",
   "name": "python",
   "nbconvert_exporter": "python",
   "pygments_lexer": "ipython3",
   "version": "3.12.10"
  }
 },
 "nbformat": 4,
 "nbformat_minor": 5
}
