{
 "cells": [
  {
   "cell_type": "markdown",
   "id": "8d3cbfd0",
   "metadata": {},
   "source": [
    "💡 Concept:\n",
    "\n",
    "Type hints tell Python (and readers) what type a variable or function expects.\n",
    "\n",
    "Example:"
   ]
  },
  {
   "cell_type": "code",
   "execution_count": 1,
   "id": "59f47ba5",
   "metadata": {},
   "outputs": [],
   "source": [
    "def add(x: int, y: int) -> int:\n",
    "    return x + y\n"
   ]
  },
  {
   "cell_type": "code",
   "execution_count": 6,
   "id": "1777244e",
   "metadata": {},
   "outputs": [
    {
     "data": {
      "text/plain": [
       "6"
      ]
     },
     "execution_count": 6,
     "metadata": {},
     "output_type": "execute_result"
    }
   ],
   "source": [
    "add(2,4)"
   ]
  },
  {
   "cell_type": "markdown",
   "id": "16a53cbf",
   "metadata": {},
   "source": [
    "Write a function greet(name: str, age: int) -> str that returns \"Hello <name>, you are <age> years old.\""
   ]
  },
  {
   "cell_type": "code",
   "execution_count": null,
   "id": "dd7cc6ec",
   "metadata": {},
   "outputs": [],
   "source": [
    "def greet(name: str, age: int) -> str:\n",
    "    return f\"Hello {name}, you are {age} years old.\""
   ]
  },
  {
   "cell_type": "code",
   "execution_count": null,
   "id": "738ff9b7",
   "metadata": {},
   "outputs": [],
   "source": [
    "greet(\"adarsh\",25)"
   ]
  },
  {
   "cell_type": "code",
   "execution_count": 16,
   "id": "c972a3ca",
   "metadata": {},
   "outputs": [],
   "source": [
    "def greet(name: str, age: int) -> str:\n",
    "    return age+age"
   ]
  },
  {
   "cell_type": "markdown",
   "id": "fc08f17d",
   "metadata": {},
   "source": [
    "Define a function with type hints that takes a list of numbers and returns their average"
   ]
  },
  {
   "cell_type": "code",
   "execution_count": 28,
   "id": "8e6bda87",
   "metadata": {},
   "outputs": [],
   "source": [
    "def average(nums:list[float]) ->float:\n",
    "    '''Return the average of a list'''\n",
    "    if len(nums)  == 0:\n",
    "        raise ValueError(\"List cannot be empty\")\n",
    "    return sum(nums) / len(nums)"
   ]
  },
  {
   "cell_type": "code",
   "execution_count": 31,
   "id": "77b7fbef",
   "metadata": {},
   "outputs": [
    {
     "data": {
      "text/plain": [
       "1.5"
      ]
     },
     "execution_count": 31,
     "metadata": {},
     "output_type": "execute_result"
    }
   ],
   "source": [
    "average([1,2])"
   ]
  },
  {
   "cell_type": "code",
   "execution_count": null,
   "id": "f5103e93",
   "metadata": {},
   "outputs": [],
   "source": []
  }
 ],
 "metadata": {
  "kernelspec": {
   "display_name": "Python 3",
   "language": "python",
   "name": "python3"
  },
  "language_info": {
   "codemirror_mode": {
    "name": "ipython",
    "version": 3
   },
   "file_extension": ".py",
   "mimetype": "text/x-python",
   "name": "python",
   "nbconvert_exporter": "python",
   "pygments_lexer": "ipython3",
   "version": "3.12.10"
  }
 },
 "nbformat": 4,
 "nbformat_minor": 5
}
