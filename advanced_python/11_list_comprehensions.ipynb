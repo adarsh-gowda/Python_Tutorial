{
 "cells": [
  {
   "cell_type": "code",
   "execution_count": 4,
   "id": "a126bae1",
   "metadata": {},
   "outputs": [
    {
     "data": {
      "text/plain": [
       "[1, 8, 729, 125, 42875, 175616]"
      ]
     },
     "execution_count": 4,
     "metadata": {},
     "output_type": "execute_result"
    }
   ],
   "source": [
    "myList = [1, 2, 9, 5, 35, 56]\n",
    "squaredList = [i**3 for i in myList]\n",
    "squaredList\n"
   ]
  },
  {
   "cell_type": "code",
   "execution_count": 7,
   "id": "baa6d6bb",
   "metadata": {},
   "outputs": [
    {
     "data": {
      "text/plain": [
       "['odd', 'even', 'odd', 'even', 'odd', 'even', 'odd', 'even', 'odd']"
      ]
     },
     "execution_count": 7,
     "metadata": {},
     "output_type": "execute_result"
    }
   ],
   "source": [
    "myList=[1, 2, 3, 4, 5, 6, 7, 8, 9]\n",
    "devided=[\"even\" if i%2==0 else \"odd\" for i in myList]\n",
    "devided"
   ]
  },
  {
   "cell_type": "code",
   "execution_count": 8,
   "id": "ae0f17f5",
   "metadata": {},
   "outputs": [
    {
     "data": {
      "text/plain": [
       "['1', '2', '3', '4', '5', '6', '7', '8', '9']"
      ]
     },
     "execution_count": 8,
     "metadata": {},
     "output_type": "execute_result"
    }
   ],
   "source": [
    "myList=[1, 2, 3, 4, 5, 6, 7, 8, 9]\n",
    "strlst=[str(i) for i in myList]\n",
    "strlst"
   ]
  },
  {
   "cell_type": "code",
   "execution_count": 10,
   "id": "5527910c",
   "metadata": {},
   "outputs": [
    {
     "data": {
      "text/plain": [
       "[2, 4, 6, 8]"
      ]
     },
     "execution_count": 10,
     "metadata": {},
     "output_type": "execute_result"
    }
   ],
   "source": [
    "myList=[1, 2, 3, 4, 5, 6, 7, 8, 9]\n",
    "even=[i for i in myList if i%2==0]\n",
    "even"
   ]
  },
  {
   "cell_type": "code",
   "execution_count": 19,
   "id": "86e57ffa",
   "metadata": {},
   "outputs": [],
   "source": [
    "words = [\"hello\", \"python\", \"list\", \"comprehension\"]\n",
    "count=[len(word) for word in words if word.startswith('c')]"
   ]
  },
  {
   "cell_type": "code",
   "execution_count": 20,
   "id": "bc2c5ee2",
   "metadata": {},
   "outputs": [
    {
     "data": {
      "text/plain": [
       "[13]"
      ]
     },
     "execution_count": 20,
     "metadata": {},
     "output_type": "execute_result"
    }
   ],
   "source": [
    "count"
   ]
  },
  {
   "cell_type": "code",
   "execution_count": 25,
   "id": "19bfe15e",
   "metadata": {},
   "outputs": [
    {
     "data": {
      "text/plain": [
       "[(1, 3), (1, 4), (1, 5), (2, 3), (2, 4), (2, 5), (3, 4), (3, 5)]"
      ]
     },
     "execution_count": 25,
     "metadata": {},
     "output_type": "execute_result"
    }
   ],
   "source": [
    "pairs=[(x,y) for x in [1, 2, 3] for y in [3, 4, 5] if x!=y]\n",
    "pairs\n"
   ]
  },
  {
   "cell_type": "code",
   "execution_count": 30,
   "id": "4879e0d1",
   "metadata": {},
   "outputs": [
    {
     "data": {
      "text/plain": [
       "['python', 'print', 'Prathik']"
      ]
     },
     "execution_count": 30,
     "metadata": {},
     "output_type": "execute_result"
    }
   ],
   "source": [
    "words = [\"hello\", \"python\", \"list\", \"comprehension\",\"print\",\"Prathik\"]\n",
    "new=[word for word in words if word.startswith('p')|word.startswith('P')]\n",
    "new"
   ]
  },
  {
   "cell_type": "code",
   "execution_count": null,
   "id": "78e11571",
   "metadata": {},
   "outputs": [],
   "source": []
  }
 ],
 "metadata": {
  "kernelspec": {
   "display_name": "Python 3",
   "language": "python",
   "name": "python3"
  },
  "language_info": {
   "codemirror_mode": {
    "name": "ipython",
    "version": 3
   },
   "file_extension": ".py",
   "mimetype": "text/x-python",
   "name": "python",
   "nbconvert_exporter": "python",
   "pygments_lexer": "ipython3",
   "version": "3.12.10"
  }
 },
 "nbformat": 4,
 "nbformat_minor": 5
}
