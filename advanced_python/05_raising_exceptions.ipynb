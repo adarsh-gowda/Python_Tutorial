{
 "cells": [
  {
   "cell_type": "markdown",
   "id": "c6a5e5dd",
   "metadata": {},
   "source": [
    "💡 Concept:\n",
    "\n",
    "You can manually raise exceptions using raise."
   ]
  },
  {
   "cell_type": "code",
   "execution_count": 1,
   "id": "ef55977c",
   "metadata": {},
   "outputs": [],
   "source": [
    "def divide(a, b):\n",
    "    if b == 0:\n",
    "        raise ValueError(\"b cannot be zero\")\n",
    "    return a / b\n"
   ]
  },
  {
   "cell_type": "code",
   "execution_count": null,
   "id": "3c5232b4",
   "metadata": {},
   "outputs": [],
   "source": []
  }
 ],
 "metadata": {
  "kernelspec": {
   "display_name": "Python 3",
   "language": "python",
   "name": "python3"
  },
  "language_info": {
   "codemirror_mode": {
    "name": "ipython",
    "version": 3
   },
   "file_extension": ".py",
   "mimetype": "text/x-python",
   "name": "python",
   "nbconvert_exporter": "python",
   "pygments_lexer": "ipython3",
   "version": "3.12.10"
  }
 },
 "nbformat": 4,
 "nbformat_minor": 5
}
