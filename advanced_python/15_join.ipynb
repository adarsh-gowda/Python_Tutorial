{
 "cells": [
  {
   "cell_type": "markdown",
   "id": "9eacc847",
   "metadata": {},
   "source": [
    "Concept\n",
    "\n",
    "join() is a string method to concatenate an iterable of strings using a delimiter."
   ]
  },
  {
   "cell_type": "code",
   "execution_count": null,
   "id": "77b20913",
   "metadata": {},
   "outputs": [],
   "source": [
    "words = ['hello', 'world']\n",
    "s = ''.join(words)  # \"hello world\"\n",
    "print(s)\n"
   ]
  },
  {
   "cell_type": "code",
   "execution_count": null,
   "id": "6c5e5c49",
   "metadata": {},
   "outputs": [],
   "source": []
  },
  {
   "cell_type": "code",
   "execution_count": null,
   "id": "e16b9274",
   "metadata": {},
   "outputs": [],
   "source": []
  }
 ],
 "metadata": {
  "kernelspec": {
   "display_name": "Python 3",
   "language": "python",
   "name": "python3"
  },
  "language_info": {
   "name": "python",
   "version": "3.12.10"
  }
 },
 "nbformat": 4,
 "nbformat_minor": 5
}
