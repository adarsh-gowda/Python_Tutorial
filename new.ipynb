{
 "cells": [
  {
   "cell_type": "code",
   "execution_count": 1,
   "id": "544b35f6",
   "metadata": {},
   "outputs": [],
   "source": [
    "list1 = [1,'a',2,'1',3,4,'c']"
   ]
  },
  {
   "cell_type": "code",
   "execution_count": null,
   "id": "23b53b24",
   "metadata": {},
   "outputs": [],
   "source": [
    "s=[\"a\",\"c\",\"1\"]\n",
    "num=[1,2,3,4]"
   ]
  },
  {
   "cell_type": "code",
   "execution_count": 10,
   "id": "4690dc91",
   "metadata": {},
   "outputs": [
    {
     "name": "stdout",
     "output_type": "stream",
     "text": [
      "['a', '1', 'c']\n",
      "[1, 2, 3, 4]\n"
     ]
    }
   ],
   "source": [
    "s=[]\n",
    "num=[]\n",
    "for i in list1:\n",
    "    if type(i) is int:\n",
    "        num.append(i)\n",
    "    elif type(i is str):\n",
    "        s.append(i)\n",
    "print(s)\n",
    "print(num)\n"
   ]
  },
  {
   "cell_type": "code",
   "execution_count": 6,
   "id": "506d7ac6",
   "metadata": {},
   "outputs": [
    {
     "name": "stdout",
     "output_type": "stream",
     "text": [
      "['a', '1', 'c']\n",
      "[1, 2, 3, 4]\n"
     ]
    }
   ],
   "source": [
    "s=[]\n",
    "num=[]\n",
    "for i in list1:\n",
    "    if isinstance(i, int):\n",
    "        num.append(i)\n",
    "    elif isinstance(i, str):\n",
    "        s.append(i)\n",
    "print(s)\n",
    "print(num)"
   ]
  },
  {
   "cell_type": "code",
   "execution_count": 3,
   "id": "93d2ee0b",
   "metadata": {},
   "outputs": [],
   "source": [
    "arr = [7,7,7,7,8,8,8,4,4,2,6,6,6,6,6]"
   ]
  },
  {
   "cell_type": "markdown",
   "id": "1250f661",
   "metadata": {},
   "source": [
    "Write a code to sort the list in descending order, based on their number of occurrences in the array."
   ]
  },
  {
   "cell_type": "code",
   "execution_count": null,
   "id": "82b3f32a",
   "metadata": {},
   "outputs": [],
   "source": [
    "[6,7,8,4,2]"
   ]
  },
  {
   "cell_type": "code",
   "execution_count": null,
   "id": "4feffe4c",
   "metadata": {},
   "outputs": [
    {
     "data": {
      "text/plain": [
       "[2, 4, 4, 6, 6, 6, 6, 6, 7, 7, 7, 7, 8, 8, 8]"
      ]
     },
     "execution_count": 8,
     "metadata": {},
     "output_type": "execute_result"
    }
   ],
   "source": [
    "list=[]\n",
    "count=0\n",
    "for i in range(len(arr)):\n",
    "    if i in :\n",
    "\n",
    "        count+=1\n",
    "\n",
    "    \n"
   ]
  },
  {
   "cell_type": "code",
   "execution_count": 14,
   "id": "53368537",
   "metadata": {},
   "outputs": [],
   "source": [
    "num=int(input(\"Enter a number for table: \"))"
   ]
  },
  {
   "cell_type": "code",
   "execution_count": null,
   "id": "e11d681a",
   "metadata": {},
   "outputs": [
    {
     "name": "stdout",
     "output_type": "stream",
     "text": [
      "5 * 1 = 5\n",
      "5 * 2 = 10\n",
      "5 * 3 = 15\n",
      "5 * 4 = 20\n",
      "5 * 5 = 25\n",
      "5 * 6 = 30\n",
      "5 * 7 = 35\n",
      "5 * 8 = 40\n",
      "5 * 9 = 45\n",
      "5 * 10 = 50\n",
      "5 * 10 = 50\n"
     ]
    }
   ],
   "source": [
    "mult=10\n",
    "for i in range(1,mult+1):\n",
    "    \n",
    "    pro=num*i\n",
    "    print(num,\"*\",i,\"=\",pro)"
   ]
  },
  {
   "cell_type": "code",
   "execution_count": 29,
   "id": "8ef2bc9a",
   "metadata": {},
   "outputs": [
    {
     "name": "stdout",
     "output_type": "stream",
     "text": [
      "['catboost_info', 'clean.csv', 'Data', 'EDA.ipynb', 'feature_selection.ipynb', 'new.ipynb', 'RF.ipynb', 'scm.ipynb', 'test.ipynb']\n",
      "catboost_info\n",
      "clean.csv\n",
      "Data\n",
      "EDA.ipynb\n",
      "feature_selection.ipynb\n",
      "new.ipynb\n",
      "RF.ipynb\n",
      "scm.ipynb\n",
      "test.ipynb\n"
     ]
    }
   ],
   "source": [
    "import os\n",
    "directory_path='/projects/scm_project/notebook/'\n",
    "\n",
    "contents= os.listdir(directory_path)\n",
    "\n",
    "print(contents)\n",
    "for i in contents:\n",
    "    print(i)"
   ]
  },
  {
   "cell_type": "code",
   "execution_count": 46,
   "id": "ccaeddac",
   "metadata": {},
   "outputs": [
    {
     "name": "stdout",
     "output_type": "stream",
     "text": [
      "b is greater than a\n"
     ]
    }
   ],
   "source": [
    "a=2\n",
    "b=5\n",
    "print(\"a is greater than b\" if a>b else \"b is greater than a\")"
   ]
  },
  {
   "cell_type": "code",
   "execution_count": 52,
   "id": "6b9be2f8",
   "metadata": {},
   "outputs": [
    {
     "data": {
      "text/plain": [
       "3.5"
      ]
     },
     "execution_count": 52,
     "metadata": {},
     "output_type": "execute_result"
    }
   ],
   "source": [
    "(a+b)/2"
   ]
  },
  {
   "cell_type": "code",
   "execution_count": null,
   "id": "f9207f41",
   "metadata": {},
   "outputs": [
    {
     "name": "stdout",
     "output_type": "stream",
     "text": [
      "125 2\n"
     ]
    }
   ],
   "source": [
    "print(a**3 if a>b else b**3)"
   ]
  },
  {
   "cell_type": "code",
   "execution_count": 43,
   "id": "d8db77a2",
   "metadata": {},
   "outputs": [
    {
     "data": {
      "text/plain": [
       "str"
      ]
     },
     "execution_count": 43,
     "metadata": {},
     "output_type": "execute_result"
    }
   ],
   "source": [
    "a=input('enter text')\n",
    "type(a)"
   ]
  },
  {
   "cell_type": "code",
   "execution_count": 60,
   "id": "f03f5719",
   "metadata": {},
   "outputs": [],
   "source": [
    "st=\"Adarsh\""
   ]
  },
  {
   "cell_type": "code",
   "execution_count": 65,
   "id": "28e5d12b",
   "metadata": {},
   "outputs": [
    {
     "name": "stdout",
     "output_type": "stream",
     "text": [
      "A\n",
      "Ada\n",
      "ds\n",
      "hsradA\n",
      "h\n",
      "rs\n"
     ]
    }
   ],
   "source": [
    "print(st[0])\n",
    "print(st[0:3])\n",
    "print(st[1:6:3])\n",
    "print(st[::-1])\n",
    "print(st[-1])\n",
    "print(st[-3:-1])\n"
   ]
  },
  {
   "cell_type": "code",
   "execution_count": 80,
   "id": "b8bcfd22",
   "metadata": {},
   "outputs": [
    {
     "name": "stdout",
     "output_type": "stream",
     "text": [
      "Hello!\"Adarsh\n"
     ]
    }
   ],
   "source": [
    "print(f\"Hello!\\\"{st}\")"
   ]
  },
  {
   "cell_type": "code",
   "execution_count": 121,
   "id": "d81030f2",
   "metadata": {},
   "outputs": [],
   "source": [
    "letter=\"Adarsh\\n\\tis good boy\"\n"
   ]
  },
  {
   "cell_type": "code",
   "execution_count": 92,
   "id": "d281f3d7",
   "metadata": {},
   "outputs": [
    {
     "name": "stdout",
     "output_type": "stream",
     "text": [
      "['', 'd', 'rsh is good boy']\n"
     ]
    }
   ],
   "source": [
    "print(letter.lower().split(\"a\"))"
   ]
  },
  {
   "cell_type": "code",
   "execution_count": 106,
   "id": "2823c3b5",
   "metadata": {},
   "outputs": [
    {
     "name": "stdout",
     "output_type": "stream",
     "text": [
      "Adersh is good girl\n"
     ]
    }
   ],
   "source": [
    "print(letter.replace(\"a\",\"e\").replace(\"boy\",\"girl\"))"
   ]
  },
  {
   "cell_type": "code",
   "execution_count": 122,
   "id": "368252e9",
   "metadata": {},
   "outputs": [
    {
     "name": "stdout",
     "output_type": "stream",
     "text": [
      "Adarsh\n",
      "\tis good boy\n"
     ]
    }
   ],
   "source": [
    "print(letter)"
   ]
  },
  {
   "cell_type": "code",
   "execution_count": 105,
   "id": "9bb52433",
   "metadata": {},
   "outputs": [
    {
     "data": {
      "text/plain": [
       "10"
      ]
     },
     "execution_count": 105,
     "metadata": {},
     "output_type": "execute_result"
    }
   ],
   "source": [
    "letter.find(\"goo\")"
   ]
  },
  {
   "cell_type": "code",
   "execution_count": 107,
   "id": "f4a5f651",
   "metadata": {},
   "outputs": [
    {
     "ename": "TypeError",
     "evalue": "'str' object does not support item assignment",
     "output_type": "error",
     "traceback": [
      "\u001b[31m---------------------------------------------------------------------------\u001b[39m",
      "\u001b[31mTypeError\u001b[39m                                 Traceback (most recent call last)",
      "\u001b[36mCell\u001b[39m\u001b[36m \u001b[39m\u001b[32mIn[107]\u001b[39m\u001b[32m, line 1\u001b[39m\n\u001b[32m----> \u001b[39m\u001b[32m1\u001b[39m \u001b[43mletter\u001b[49m\u001b[43m[\u001b[49m\u001b[32;43m0\u001b[39;49m\u001b[43m]\u001b[49m=\u001b[33m\"\u001b[39m\u001b[33mH\u001b[39m\u001b[33m\"\u001b[39m\n",
      "\u001b[31mTypeError\u001b[39m: 'str' object does not support item assignment"
     ]
    }
   ],
   "source": [
    "letter[0]=\"H\""
   ]
  },
  {
   "cell_type": "code",
   "execution_count": 127,
   "id": "809c6770",
   "metadata": {},
   "outputs": [],
   "source": [
    "lst=[\"adi\",21,\"deepa\",\"sai\"]"
   ]
  },
  {
   "cell_type": "code",
   "execution_count": null,
   "id": "b97d4def",
   "metadata": {},
   "outputs": [
    {
     "data": {
      "text/plain": [
       "'kavya'"
      ]
     },
     "execution_count": 175,
     "metadata": {},
     "output_type": "execute_result"
    }
   ],
   "source": [
    "\n",
    "lst.pop(2)\n"
   ]
  },
  {
   "cell_type": "code",
   "execution_count": 173,
   "id": "086b734f",
   "metadata": {},
   "outputs": [],
   "source": [
    "lst.append(\"kavya\")"
   ]
  },
  {
   "cell_type": "code",
   "execution_count": 176,
   "id": "c0580d8f",
   "metadata": {},
   "outputs": [
    {
     "data": {
      "text/plain": [
       "['adi', 'kavya']"
      ]
     },
     "execution_count": 176,
     "metadata": {},
     "output_type": "execute_result"
    }
   ],
   "source": [
    "lst"
   ]
  },
  {
   "cell_type": "code",
   "execution_count": 184,
   "id": "21ea24ad",
   "metadata": {},
   "outputs": [],
   "source": [
    "lst.insert(9,\"adi\")"
   ]
  },
  {
   "cell_type": "code",
   "execution_count": 185,
   "id": "6e8e54b6",
   "metadata": {},
   "outputs": [
    {
     "data": {
      "text/plain": [
       "6"
      ]
     },
     "execution_count": 185,
     "metadata": {},
     "output_type": "execute_result"
    }
   ],
   "source": [
    "len(lst)"
   ]
  },
  {
   "cell_type": "code",
   "execution_count": 161,
   "id": "4827beb8",
   "metadata": {},
   "outputs": [],
   "source": [
    "lst.remove(\"adi\")"
   ]
  },
  {
   "cell_type": "code",
   "execution_count": 152,
   "id": "7e4b1ba1",
   "metadata": {},
   "outputs": [],
   "source": [
    "lst.remove(21)"
   ]
  },
  {
   "cell_type": "code",
   "execution_count": 139,
   "id": "37ce2f9b",
   "metadata": {},
   "outputs": [],
   "source": [
    "lst1=[1,5,2,7,4]"
   ]
  },
  {
   "cell_type": "code",
   "execution_count": 143,
   "id": "dfd2d343",
   "metadata": {},
   "outputs": [],
   "source": [
    "lst1.sort()"
   ]
  },
  {
   "cell_type": "code",
   "execution_count": 144,
   "id": "da0abd7a",
   "metadata": {},
   "outputs": [
    {
     "data": {
      "text/plain": [
       "[1, 2, 4, 5, 7]"
      ]
     },
     "execution_count": 144,
     "metadata": {},
     "output_type": "execute_result"
    }
   ],
   "source": [
    "lst1"
   ]
  },
  {
   "cell_type": "code",
   "execution_count": 240,
   "id": "d23aa3f8",
   "metadata": {},
   "outputs": [],
   "source": [
    "a=(1,3,3,4,5)\n",
    "\n",
    "\n"
   ]
  },
  {
   "cell_type": "code",
   "execution_count": 241,
   "id": "d5c80777",
   "metadata": {},
   "outputs": [
    {
     "data": {
      "text/plain": [
       "2"
      ]
     },
     "execution_count": 241,
     "metadata": {},
     "output_type": "execute_result"
    }
   ],
   "source": [
    "a.count(3)"
   ]
  },
  {
   "cell_type": "code",
   "execution_count": 234,
   "id": "cd4bef66",
   "metadata": {},
   "outputs": [],
   "source": [
    "b=(1,0,\"adi\")"
   ]
  },
  {
   "cell_type": "code",
   "execution_count": 209,
   "id": "36c9b2d0",
   "metadata": {},
   "outputs": [
    {
     "data": {
      "text/plain": [
       "tuple"
      ]
     },
     "execution_count": 209,
     "metadata": {},
     "output_type": "execute_result"
    }
   ],
   "source": [
    "type(b)"
   ]
  },
  {
   "cell_type": "code",
   "execution_count": 219,
   "id": "83524206",
   "metadata": {},
   "outputs": [
    {
     "data": {
      "text/plain": [
       "(1, 0, 'adi', 1, 0, 'adi', 1, 0, 'adi')"
      ]
     },
     "execution_count": 219,
     "metadata": {},
     "output_type": "execute_result"
    }
   ],
   "source": [
    "b*3"
   ]
  },
  {
   "cell_type": "code",
   "execution_count": 218,
   "id": "71031ebe",
   "metadata": {},
   "outputs": [
    {
     "name": "stdout",
     "output_type": "stream",
     "text": [
      "1 : 0\n",
      "0 : 1\n",
      "adi : 2\n"
     ]
    }
   ],
   "source": [
    "for i in b:\n",
    "    print(i ,\":\", b.index(i))\n",
    "\n",
    "  "
   ]
  },
  {
   "cell_type": "code",
   "execution_count": 221,
   "id": "7284db18",
   "metadata": {},
   "outputs": [
    {
     "name": "stdout",
     "output_type": "stream",
     "text": [
      "False\n"
     ]
    }
   ],
   "source": [
    "print(2 in b)"
   ]
  },
  {
   "cell_type": "code",
   "execution_count": 232,
   "id": "0418a9f2",
   "metadata": {},
   "outputs": [
    {
     "ename": "KeyboardInterrupt",
     "evalue": "Interrupted by user",
     "output_type": "error",
     "traceback": [
      "\u001b[31m---------------------------------------------------------------------------\u001b[39m",
      "\u001b[31mKeyboardInterrupt\u001b[39m                         Traceback (most recent call last)",
      "\u001b[36mCell\u001b[39m\u001b[36m \u001b[39m\u001b[32mIn[232]\u001b[39m\u001b[32m, line 4\u001b[39m\n\u001b[32m      1\u001b[39m lst=[]\n\u001b[32m      3\u001b[39m \u001b[38;5;28;01mfor\u001b[39;00m i \u001b[38;5;129;01min\u001b[39;00m \u001b[38;5;28mrange\u001b[39m(\u001b[32m7\u001b[39m):\n\u001b[32m----> \u001b[39m\u001b[32m4\u001b[39m     a=\u001b[38;5;28;43minput\u001b[39;49m\u001b[43m(\u001b[49m\u001b[33;43m\"\u001b[39;49m\u001b[33;43mEnter fruit\u001b[39;49m\u001b[33;43m\"\u001b[39;49m\u001b[43m)\u001b[49m\n\u001b[32m      5\u001b[39m     lst.append(a)\n\u001b[32m      6\u001b[39m \u001b[38;5;28mprint\u001b[39m(lst)\n",
      "\u001b[36mFile \u001b[39m\u001b[32md:\\Projects\\scm_project\\venv\\Lib\\site-packages\\ipykernel\\kernelbase.py:1282\u001b[39m, in \u001b[36mKernel.raw_input\u001b[39m\u001b[34m(self, prompt)\u001b[39m\n\u001b[32m   1280\u001b[39m     msg = \u001b[33m\"\u001b[39m\u001b[33mraw_input was called, but this frontend does not support input requests.\u001b[39m\u001b[33m\"\u001b[39m\n\u001b[32m   1281\u001b[39m     \u001b[38;5;28;01mraise\u001b[39;00m StdinNotImplementedError(msg)\n\u001b[32m-> \u001b[39m\u001b[32m1282\u001b[39m \u001b[38;5;28;01mreturn\u001b[39;00m \u001b[38;5;28;43mself\u001b[39;49m\u001b[43m.\u001b[49m\u001b[43m_input_request\u001b[49m\u001b[43m(\u001b[49m\n\u001b[32m   1283\u001b[39m \u001b[43m    \u001b[49m\u001b[38;5;28;43mstr\u001b[39;49m\u001b[43m(\u001b[49m\u001b[43mprompt\u001b[49m\u001b[43m)\u001b[49m\u001b[43m,\u001b[49m\n\u001b[32m   1284\u001b[39m \u001b[43m    \u001b[49m\u001b[38;5;28;43mself\u001b[39;49m\u001b[43m.\u001b[49m\u001b[43m_parent_ident\u001b[49m\u001b[43m[\u001b[49m\u001b[33;43m\"\u001b[39;49m\u001b[33;43mshell\u001b[39;49m\u001b[33;43m\"\u001b[39;49m\u001b[43m]\u001b[49m\u001b[43m,\u001b[49m\n\u001b[32m   1285\u001b[39m \u001b[43m    \u001b[49m\u001b[38;5;28;43mself\u001b[39;49m\u001b[43m.\u001b[49m\u001b[43mget_parent\u001b[49m\u001b[43m(\u001b[49m\u001b[33;43m\"\u001b[39;49m\u001b[33;43mshell\u001b[39;49m\u001b[33;43m\"\u001b[39;49m\u001b[43m)\u001b[49m\u001b[43m,\u001b[49m\n\u001b[32m   1286\u001b[39m \u001b[43m    \u001b[49m\u001b[43mpassword\u001b[49m\u001b[43m=\u001b[49m\u001b[38;5;28;43;01mFalse\u001b[39;49;00m\u001b[43m,\u001b[49m\n\u001b[32m   1287\u001b[39m \u001b[43m\u001b[49m\u001b[43m)\u001b[49m\n",
      "\u001b[36mFile \u001b[39m\u001b[32md:\\Projects\\scm_project\\venv\\Lib\\site-packages\\ipykernel\\kernelbase.py:1325\u001b[39m, in \u001b[36mKernel._input_request\u001b[39m\u001b[34m(self, prompt, ident, parent, password)\u001b[39m\n\u001b[32m   1322\u001b[39m \u001b[38;5;28;01mexcept\u001b[39;00m \u001b[38;5;167;01mKeyboardInterrupt\u001b[39;00m:\n\u001b[32m   1323\u001b[39m     \u001b[38;5;66;03m# re-raise KeyboardInterrupt, to truncate traceback\u001b[39;00m\n\u001b[32m   1324\u001b[39m     msg = \u001b[33m\"\u001b[39m\u001b[33mInterrupted by user\u001b[39m\u001b[33m\"\u001b[39m\n\u001b[32m-> \u001b[39m\u001b[32m1325\u001b[39m     \u001b[38;5;28;01mraise\u001b[39;00m \u001b[38;5;167;01mKeyboardInterrupt\u001b[39;00m(msg) \u001b[38;5;28;01mfrom\u001b[39;00m\u001b[38;5;250m \u001b[39m\u001b[38;5;28;01mNone\u001b[39;00m\n\u001b[32m   1326\u001b[39m \u001b[38;5;28;01mexcept\u001b[39;00m \u001b[38;5;167;01mException\u001b[39;00m:\n\u001b[32m   1327\u001b[39m     \u001b[38;5;28mself\u001b[39m.log.warning(\u001b[33m\"\u001b[39m\u001b[33mInvalid Message:\u001b[39m\u001b[33m\"\u001b[39m, exc_info=\u001b[38;5;28;01mTrue\u001b[39;00m)\n",
      "\u001b[31mKeyboardInterrupt\u001b[39m: Interrupted by user"
     ]
    }
   ],
   "source": [
    "lst=[]\n",
    "\n",
    "for i in range(7):\n",
    "    a=input(\"Enter fruit\")\n",
    "    lst.append(a)\n",
    "print(lst)"
   ]
  },
  {
   "cell_type": "code",
   "execution_count": 363,
   "id": "3facec7f",
   "metadata": {},
   "outputs": [],
   "source": [
    "a=set()"
   ]
  },
  {
   "cell_type": "code",
   "execution_count": 364,
   "id": "91b20241",
   "metadata": {},
   "outputs": [
    {
     "data": {
      "text/plain": [
       "set()"
      ]
     },
     "execution_count": 364,
     "metadata": {},
     "output_type": "execute_result"
    }
   ],
   "source": [
    "a"
   ]
  },
  {
   "cell_type": "code",
   "execution_count": 374,
   "id": "059625c0",
   "metadata": {},
   "outputs": [
    {
     "data": {
      "text/plain": [
       "{1, 2, 3, 5}"
      ]
     },
     "execution_count": 374,
     "metadata": {},
     "output_type": "execute_result"
    }
   ],
   "source": [
    "type(a)\n",
    "a.add(2)\n",
    "a.add(1)\n",
    "a.add(3)\n",
    "a.add(3.0)\n",
    "a.add(5)\n",
    "a\n"
   ]
  },
  {
   "cell_type": "code",
   "execution_count": 375,
   "id": "0cffbcd6",
   "metadata": {},
   "outputs": [],
   "source": [
    "a.add(\"adi\")"
   ]
  },
  {
   "cell_type": "code",
   "execution_count": 349,
   "id": "e9d3f86d",
   "metadata": {},
   "outputs": [],
   "source": [
    "a.remove(1)"
   ]
  },
  {
   "cell_type": "code",
   "execution_count": 350,
   "id": "4e5b092d",
   "metadata": {},
   "outputs": [],
   "source": [
    "a.discard(1)"
   ]
  },
  {
   "cell_type": "code",
   "execution_count": 351,
   "id": "2caf5743",
   "metadata": {},
   "outputs": [
    {
     "data": {
      "text/plain": [
       "{2, 3, 5, 'adi'}"
      ]
     },
     "execution_count": 351,
     "metadata": {},
     "output_type": "execute_result"
    }
   ],
   "source": [
    "a"
   ]
  },
  {
   "cell_type": "code",
   "execution_count": 352,
   "id": "e12cbec2",
   "metadata": {},
   "outputs": [],
   "source": [
    "elem = a.pop()"
   ]
  },
  {
   "cell_type": "code",
   "execution_count": 353,
   "id": "cd20d88d",
   "metadata": {},
   "outputs": [
    {
     "data": {
      "text/plain": [
       "3"
      ]
     },
     "execution_count": 353,
     "metadata": {},
     "output_type": "execute_result"
    }
   ],
   "source": [
    "elem"
   ]
  },
  {
   "cell_type": "code",
   "execution_count": 361,
   "id": "54464f70",
   "metadata": {},
   "outputs": [
    {
     "data": {
      "text/plain": [
       "[1, 5]"
      ]
     },
     "execution_count": 361,
     "metadata": {},
     "output_type": "execute_result"
    }
   ],
   "source": [
    "a"
   ]
  },
  {
   "cell_type": "code",
   "execution_count": 368,
   "id": "f9f84573",
   "metadata": {},
   "outputs": [],
   "source": [
    "b={5,6,7,8}"
   ]
  },
  {
   "cell_type": "code",
   "execution_count": 302,
   "id": "15dba6c8",
   "metadata": {},
   "outputs": [],
   "source": [
    "b={\"adi\":95}"
   ]
  },
  {
   "cell_type": "code",
   "execution_count": 371,
   "id": "387aedf2",
   "metadata": {},
   "outputs": [
    {
     "data": {
      "text/plain": [
       "{1, 2, 3, 5, 6, 7, 8}"
      ]
     },
     "execution_count": 371,
     "metadata": {},
     "output_type": "execute_result"
    }
   ],
   "source": [
    "a.union(b)"
   ]
  },
  {
   "cell_type": "code",
   "execution_count": 373,
   "id": "87a7bd1d",
   "metadata": {},
   "outputs": [
    {
     "name": "stdout",
     "output_type": "stream",
     "text": [
      "{5}\n",
      "{1, 2, 3}\n",
      "{1, 2, 3, 6, 7, 8}\n",
      "False\n",
      "False\n",
      "False\n",
      "False\n"
     ]
    }
   ],
   "source": [
    "print(a.intersection(b))\n",
    "print(a.difference(b))\n",
    "print(a.symmetric_difference(b))\n",
    "print(a.isdisjoint(b))\n",
    "print(a.issubset(b))\n",
    "print(a.issuperset(b))\n",
    "print(a.isdisjoint(b))"
   ]
  },
  {
   "cell_type": "code",
   "execution_count": 303,
   "id": "aed58926",
   "metadata": {},
   "outputs": [
    {
     "data": {
      "text/plain": [
       "dict"
      ]
     },
     "execution_count": 303,
     "metadata": {},
     "output_type": "execute_result"
    }
   ],
   "source": [
    "type(b)"
   ]
  },
  {
   "cell_type": "code",
   "execution_count": 247,
   "id": "1ff93049",
   "metadata": {},
   "outputs": [
    {
     "data": {
      "text/plain": [
       "dict"
      ]
     },
     "execution_count": 247,
     "metadata": {},
     "output_type": "execute_result"
    }
   ],
   "source": [
    "type(b)"
   ]
  },
  {
   "cell_type": "code",
   "execution_count": 316,
   "id": "2219ff30",
   "metadata": {},
   "outputs": [],
   "source": [
    "b={\"adi\":95,\n",
    "\"darshan\":91,\n",
    "\"mithun\":85}"
   ]
  },
  {
   "cell_type": "code",
   "execution_count": 317,
   "id": "48a73119",
   "metadata": {},
   "outputs": [
    {
     "data": {
      "text/plain": [
       "{'adi': 95, 'darshan': 91, 'mithun': 85}"
      ]
     },
     "execution_count": 317,
     "metadata": {},
     "output_type": "execute_result"
    }
   ],
   "source": [
    "b"
   ]
  },
  {
   "cell_type": "code",
   "execution_count": 318,
   "id": "9d75bf91",
   "metadata": {},
   "outputs": [
    {
     "name": "stdout",
     "output_type": "stream",
     "text": [
      "{'adi': 95, 'darshan': 91, 'mithun': 85} <class 'dict'>\n"
     ]
    }
   ],
   "source": [
    "print(b,type(b))"
   ]
  },
  {
   "cell_type": "code",
   "execution_count": 319,
   "id": "376a3bf1",
   "metadata": {},
   "outputs": [],
   "source": [
    "b[\"adi\"]=98"
   ]
  },
  {
   "cell_type": "code",
   "execution_count": 328,
   "id": "32dac014",
   "metadata": {},
   "outputs": [],
   "source": [
    "value = b.pop(\"mithun\", \"Not found\")"
   ]
  },
  {
   "cell_type": "code",
   "execution_count": 329,
   "id": "d1fcff86",
   "metadata": {},
   "outputs": [
    {
     "data": {
      "text/plain": [
       "'Not found'"
      ]
     },
     "execution_count": 329,
     "metadata": {},
     "output_type": "execute_result"
    }
   ],
   "source": [
    "value"
   ]
  },
  {
   "cell_type": "code",
   "execution_count": 326,
   "id": "9cfa8a08",
   "metadata": {},
   "outputs": [
    {
     "data": {
      "text/plain": [
       "{'adi': 98, 'darshan': 91}"
      ]
     },
     "execution_count": 326,
     "metadata": {},
     "output_type": "execute_result"
    }
   ],
   "source": [
    "b"
   ]
  },
  {
   "cell_type": "code",
   "execution_count": 327,
   "id": "a427e8ac",
   "metadata": {},
   "outputs": [],
   "source": [
    "b[\"darshan\"]=95"
   ]
  },
  {
   "cell_type": "code",
   "execution_count": 262,
   "id": "ceb3a14a",
   "metadata": {},
   "outputs": [
    {
     "name": "stdout",
     "output_type": "stream",
     "text": [
      "dict_keys(['adi', 'darshan', 'mithun'])\n"
     ]
    }
   ],
   "source": [
    "print(b.keys())"
   ]
  },
  {
   "cell_type": "code",
   "execution_count": 268,
   "id": "2638fb84",
   "metadata": {},
   "outputs": [],
   "source": [
    "b.update({\"adi\":80,\"Deepa\":77})"
   ]
  },
  {
   "cell_type": "code",
   "execution_count": 269,
   "id": "4e33f4ac",
   "metadata": {},
   "outputs": [
    {
     "data": {
      "text/plain": [
       "{'adi': 80, 'darshan': 95, 'mithun': 85, 'Deepa': 77}"
      ]
     },
     "execution_count": 269,
     "metadata": {},
     "output_type": "execute_result"
    }
   ],
   "source": [
    "b"
   ]
  },
  {
   "cell_type": "code",
   "execution_count": 279,
   "id": "ae48efa0",
   "metadata": {},
   "outputs": [
    {
     "name": "stdout",
     "output_type": "stream",
     "text": [
      "NA\n"
     ]
    }
   ],
   "source": [
    "print(b.get(\"adi2\", \"NA\"))"
   ]
  },
  {
   "cell_type": "code",
   "execution_count": 280,
   "id": "5e6c2bee",
   "metadata": {},
   "outputs": [
    {
     "name": "stdout",
     "output_type": "stream",
     "text": [
      "None\n"
     ]
    }
   ],
   "source": [
    "print(b.get(\"adi2\"))"
   ]
  },
  {
   "cell_type": "code",
   "execution_count": 276,
   "id": "28dfed91",
   "metadata": {},
   "outputs": [
    {
     "data": {
      "text/plain": [
       "80"
      ]
     },
     "execution_count": 276,
     "metadata": {},
     "output_type": "execute_result"
    }
   ],
   "source": [
    "b[\"adi\"]"
   ]
  },
  {
   "cell_type": "code",
   "execution_count": 273,
   "id": "adc959e6",
   "metadata": {},
   "outputs": [
    {
     "data": {
      "text/plain": [
       "{'adi': 80, 'darshan': 95, 'mithun': 85, 'Deepa': 77}"
      ]
     },
     "execution_count": 273,
     "metadata": {},
     "output_type": "execute_result"
    }
   ],
   "source": [
    "b"
   ]
  },
  {
   "cell_type": "code",
   "execution_count": 281,
   "id": "e79fa284",
   "metadata": {},
   "outputs": [
    {
     "name": "stdout",
     "output_type": "stream",
     "text": [
      "USA\n"
     ]
    }
   ],
   "source": [
    "\n",
    "print(b.setdefault(\"country\", \"USA\"))  # Adds 'country': 'USA'"
   ]
  },
  {
   "cell_type": "code",
   "execution_count": 282,
   "id": "813fc97d",
   "metadata": {},
   "outputs": [
    {
     "data": {
      "text/plain": [
       "{'adi': 80, 'darshan': 95, 'mithun': 85, 'Deepa': 77, 'country': 'USA'}"
      ]
     },
     "execution_count": 282,
     "metadata": {},
     "output_type": "execute_result"
    }
   ],
   "source": [
    "b"
   ]
  },
  {
   "cell_type": "code",
   "execution_count": 283,
   "id": "b12cb189",
   "metadata": {},
   "outputs": [
    {
     "data": {
      "text/plain": [
       "'USA'"
      ]
     },
     "execution_count": 283,
     "metadata": {},
     "output_type": "execute_result"
    }
   ],
   "source": [
    "b.pop(\"country\")"
   ]
  },
  {
   "cell_type": "code",
   "execution_count": 289,
   "id": "9308c59f",
   "metadata": {},
   "outputs": [
    {
     "data": {
      "text/plain": [
       "('darshan', 95)"
      ]
     },
     "execution_count": 289,
     "metadata": {},
     "output_type": "execute_result"
    }
   ],
   "source": [
    "b.popitem()"
   ]
  },
  {
   "cell_type": "code",
   "execution_count": 290,
   "id": "8846e042",
   "metadata": {},
   "outputs": [
    {
     "data": {
      "text/plain": [
       "{'adi': 80}"
      ]
     },
     "execution_count": 290,
     "metadata": {},
     "output_type": "execute_result"
    }
   ],
   "source": [
    "b"
   ]
  },
  {
   "cell_type": "code",
   "execution_count": 293,
   "id": "337ef3d7",
   "metadata": {},
   "outputs": [],
   "source": [
    "b.clear()"
   ]
  },
  {
   "cell_type": "code",
   "execution_count": 294,
   "id": "f452c767",
   "metadata": {},
   "outputs": [
    {
     "data": {
      "text/plain": [
       "{}"
      ]
     },
     "execution_count": 294,
     "metadata": {},
     "output_type": "execute_result"
    }
   ],
   "source": [
    "b"
   ]
  },
  {
   "cell_type": "code",
   "execution_count": 357,
   "id": "d5765006",
   "metadata": {},
   "outputs": [],
   "source": [
    "a=[1,5,3]"
   ]
  },
  {
   "cell_type": "code",
   "execution_count": 360,
   "id": "a48d67a8",
   "metadata": {},
   "outputs": [
    {
     "ename": "AttributeError",
     "evalue": "'list' object has no attribute 'discard'",
     "output_type": "error",
     "traceback": [
      "\u001b[31m---------------------------------------------------------------------------\u001b[39m",
      "\u001b[31mAttributeError\u001b[39m                            Traceback (most recent call last)",
      "\u001b[36mCell\u001b[39m\u001b[36m \u001b[39m\u001b[32mIn[360]\u001b[39m\u001b[32m, line 1\u001b[39m\n\u001b[32m----> \u001b[39m\u001b[32m1\u001b[39m \u001b[43ma\u001b[49m\u001b[43m.\u001b[49m\u001b[43mdiscard\u001b[49m(\u001b[32m3\u001b[39m)\n",
      "\u001b[31mAttributeError\u001b[39m: 'list' object has no attribute 'discard'"
     ]
    }
   ],
   "source": [
    "a.discard(3)"
   ]
  },
  {
   "cell_type": "code",
   "execution_count": 359,
   "id": "c8e942f4",
   "metadata": {},
   "outputs": [
    {
     "data": {
      "text/plain": [
       "[1, 5]"
      ]
     },
     "execution_count": 359,
     "metadata": {},
     "output_type": "execute_result"
    }
   ],
   "source": [
    "a"
   ]
  },
  {
   "cell_type": "code",
   "execution_count": 386,
   "id": "46e27db4",
   "metadata": {},
   "outputs": [],
   "source": [
    "s=\"Adarsh gowda\""
   ]
  },
  {
   "cell_type": "code",
   "execution_count": 389,
   "id": "995a6db6",
   "metadata": {},
   "outputs": [
    {
     "name": "stdout",
     "output_type": "stream",
     "text": [
      "yes\n"
     ]
    }
   ],
   "source": [
    "if (\"sh\" in s):\n",
    "    print(\"yes\")\n",
    "else:\n",
    "    print(\"no\")"
   ]
  },
  {
   "cell_type": "code",
   "execution_count": 382,
   "id": "6a84d363",
   "metadata": {},
   "outputs": [
    {
     "data": {
      "text/plain": [
       "'adarsh gowda'"
      ]
     },
     "execution_count": 382,
     "metadata": {},
     "output_type": "execute_result"
    }
   ],
   "source": [
    "s.lower()"
   ]
  },
  {
   "cell_type": "code",
   "execution_count": 383,
   "id": "bad54388",
   "metadata": {},
   "outputs": [
    {
     "data": {
      "text/plain": [
       "'ADARSH GOWDA'"
      ]
     },
     "execution_count": 383,
     "metadata": {},
     "output_type": "execute_result"
    }
   ],
   "source": [
    "s.upper()"
   ]
  },
  {
   "cell_type": "code",
   "execution_count": 384,
   "id": "d65cb9c6",
   "metadata": {},
   "outputs": [
    {
     "data": {
      "text/plain": [
       "'Adarsh gowda'"
      ]
     },
     "execution_count": 384,
     "metadata": {},
     "output_type": "execute_result"
    }
   ],
   "source": [
    "s.capitalize()"
   ]
  },
  {
   "cell_type": "code",
   "execution_count": 385,
   "id": "b7b1e332",
   "metadata": {},
   "outputs": [
    {
     "data": {
      "text/plain": [
       "'Adarsh Gowda'"
      ]
     },
     "execution_count": 385,
     "metadata": {},
     "output_type": "execute_result"
    }
   ],
   "source": [
    "s.title()"
   ]
  },
  {
   "cell_type": "code",
   "execution_count": null,
   "id": "28669a0e",
   "metadata": {},
   "outputs": [
    {
     "name": "stdout",
     "output_type": "stream",
     "text": [
      "You exiting: exit\n"
     ]
    }
   ],
   "source": [
    "while True:\n",
    "    s = input(\"Enter a string: \")\n",
    "    if s.lower() == \"exit\":\n",
    "        print(\"You exiting:\")\n",
    "        break\n",
    "    else:\n",
    "        print(\"You entered:\", s)\n"
   ]
  },
  {
   "cell_type": "code",
   "execution_count": 400,
   "id": "9c8e27c1",
   "metadata": {},
   "outputs": [
    {
     "name": "stdout",
     "output_type": "stream",
     "text": [
      "0\n",
      "1\n",
      "2\n",
      "3\n",
      "4\n",
      "5\n",
      "6\n",
      "7\n",
      "28\n"
     ]
    }
   ],
   "source": [
    "sum=0\n",
    "for i in range(10):\n",
    "    if i==8:\n",
    "        break\n",
    "    sum+=i\n",
    "    print(i)\n",
    "print(sum)"
   ]
  },
  {
   "cell_type": "code",
   "execution_count": null,
   "id": "9f8c93c2",
   "metadata": {},
   "outputs": [
    {
     "name": "stdout",
     "output_type": "stream",
     "text": [
      "1\n",
      "2\n",
      "3\n",
      "4\n",
      "5\n",
      "6\n",
      "7\n",
      "9\n"
     ]
    }
   ],
   "source": [
    "for i in range(1,10):\n",
    "    if i==8:\n",
    "        continue\n",
    "    print(i)\n"
   ]
  },
  {
   "cell_type": "code",
   "execution_count": 409,
   "id": "89e1fb63",
   "metadata": {},
   "outputs": [],
   "source": [
    "n=6"
   ]
  },
  {
   "cell_type": "code",
   "execution_count": 410,
   "id": "f0cc4fdc",
   "metadata": {},
   "outputs": [
    {
     "name": "stdout",
     "output_type": "stream",
     "text": [
      "*    *"
     ]
    }
   ],
   "source": [
    "print(\"*\", end=\"\")\n",
    "print(\" \"*(n-2), end=\"\")\n",
    "print(\"*\", end=\"\")"
   ]
  },
  {
   "cell_type": "code",
   "execution_count": 415,
   "id": "6659d3ad",
   "metadata": {},
   "outputs": [],
   "source": [
    "def fun(n):\n",
    "    print(n)\n"
   ]
  },
  {
   "cell_type": "code",
   "execution_count": 416,
   "id": "d67eb052",
   "metadata": {},
   "outputs": [
    {
     "name": "stdout",
     "output_type": "stream",
     "text": [
      "19\n"
     ]
    }
   ],
   "source": [
    "fun(19)"
   ]
  },
  {
   "cell_type": "code",
   "execution_count": 12,
   "id": "7ae179ae",
   "metadata": {},
   "outputs": [],
   "source": [
    "def sa(a,b):\n",
    "    return a+b"
   ]
  },
  {
   "cell_type": "code",
   "execution_count": 79,
   "id": "168ee533",
   "metadata": {},
   "outputs": [],
   "source": [
    "\n",
    "def num(n):\n",
    "    if (n<2):\n",
    "        print(\"not prime\")\n",
    "        return\n",
    "    for i in range(2,int(n**0.5) + 1):\n",
    "\n",
    "        if (n%i==0):\n",
    "            print(\"not prime\")\n",
    "            return\n",
    "           \n",
    "    print(\"prime\")\n",
    "\n",
    "        \n",
    "    "
   ]
  },
  {
   "cell_type": "code",
   "execution_count": 80,
   "id": "191b4515",
   "metadata": {},
   "outputs": [
    {
     "name": "stdout",
     "output_type": "stream",
     "text": [
      "not prime\n"
     ]
    }
   ],
   "source": [
    "num(4)"
   ]
  },
  {
   "cell_type": "code",
   "execution_count": 81,
   "id": "e1f027a3",
   "metadata": {},
   "outputs": [
    {
     "name": "stdout",
     "output_type": "stream",
     "text": [
      "not prime\n"
     ]
    }
   ],
   "source": [
    "num(1)"
   ]
  },
  {
   "cell_type": "code",
   "execution_count": 84,
   "id": "a5524620",
   "metadata": {},
   "outputs": [
    {
     "name": "stdout",
     "output_type": "stream",
     "text": [
      "prime\n"
     ]
    }
   ],
   "source": [
    "num(7)"
   ]
  },
  {
   "cell_type": "code",
   "execution_count": 83,
   "id": "63ce4e19",
   "metadata": {},
   "outputs": [
    {
     "name": "stdout",
     "output_type": "stream",
     "text": [
      "prime\n"
     ]
    }
   ],
   "source": [
    "num(11)"
   ]
  },
  {
   "cell_type": "code",
   "execution_count": 91,
   "id": "775d7f50",
   "metadata": {},
   "outputs": [],
   "source": [
    "def is_prime_recursive(n, divisor=2):\n",
    "    if n <= 1:\n",
    "        return False\n",
    "    if divisor > int(n**0.5):  # checked all possible divisors\n",
    "        return True\n",
    "    if n % divisor == 0:\n",
    "        return False\n",
    "    return is_prime_recursive(n,divisor+1)\n"
   ]
  },
  {
   "cell_type": "code",
   "execution_count": 92,
   "id": "2ae4a09f",
   "metadata": {},
   "outputs": [
    {
     "name": "stdout",
     "output_type": "stream",
     "text": [
      "True\n",
      "False\n"
     ]
    }
   ],
   "source": [
    "print(is_prime_recursive(11))   # True\n",
    "print(is_prime_recursive(12))"
   ]
  },
  {
   "cell_type": "code",
   "execution_count": null,
   "id": "0c289752",
   "metadata": {},
   "outputs": [],
   "source": [
    "def factorial_n(n):\n",
    "    if n==0 or n==1:\n",
    "        return 1\n",
    "    return n*factorial_n(n-1)\n"
   ]
  },
  {
   "cell_type": "code",
   "execution_count": 108,
   "id": "53d3e370",
   "metadata": {},
   "outputs": [
    {
     "data": {
      "text/plain": [
       "120"
      ]
     },
     "execution_count": 108,
     "metadata": {},
     "output_type": "execute_result"
    }
   ],
   "source": [
    "factorial_n(5)"
   ]
  },
  {
   "cell_type": "code",
   "execution_count": 117,
   "id": "4ccf3930",
   "metadata": {},
   "outputs": [
    {
     "name": "stdout",
     "output_type": "stream",
     "text": [
      "720\n",
      "[1, 2, 6, 24, 120, 720]\n"
     ]
    }
   ],
   "source": [
    "n=6\n",
    "lst=[]\n",
    "multi=1\n",
    "for i in range(1,n+1):\n",
    "    multi=multi*i\n",
    "    lst.append(multi)\n",
    "print(multi)\n",
    "print(lst)"
   ]
  },
  {
   "cell_type": "code",
   "execution_count": 23,
   "id": "0118c64d",
   "metadata": {},
   "outputs": [],
   "source": [
    "def fact_list(n):\n",
    "    if n==0 or n==1:\n",
    "        return [1]\n",
    "    prev = fact_list(n - 1)\n",
    "    prev.append(n*prev[-1])\n",
    "    return prev"
   ]
  },
  {
   "cell_type": "code",
   "execution_count": null,
   "id": "bdd4d865",
   "metadata": {},
   "outputs": [
    {
     "ename": "NameError",
     "evalue": "name 'prev' is not defined",
     "output_type": "error",
     "traceback": [
      "\u001b[31m---------------------------------------------------------------------------\u001b[39m",
      "\u001b[31mNameError\u001b[39m                                 Traceback (most recent call last)",
      "\u001b[36mCell\u001b[39m\u001b[36m \u001b[39m\u001b[32mIn[27]\u001b[39m\u001b[32m, line 1\u001b[39m\n\u001b[32m----> \u001b[39m\u001b[32m1\u001b[39m \u001b[38;5;28mtype\u001b[39m(\u001b[43mprev\u001b[49m)\n",
      "\u001b[31mNameError\u001b[39m: name 'prev' is not defined"
     ]
    }
   ],
   "source": []
  },
  {
   "cell_type": "code",
   "execution_count": 16,
   "id": "d0f7a076",
   "metadata": {},
   "outputs": [
    {
     "data": {
      "text/plain": [
       "[1, 2, 6, 24, 120, 720]"
      ]
     },
     "execution_count": 16,
     "metadata": {},
     "output_type": "execute_result"
    }
   ],
   "source": [
    "fact_list(6)"
   ]
  },
  {
   "cell_type": "code",
   "execution_count": 21,
   "id": "efb982fc",
   "metadata": {},
   "outputs": [],
   "source": [
    "def gcd(a,b):\n",
    "    for i in range(1,min(a, b) + 1):\n",
    "        if a % i == 0 and b % i == 0:\n",
    "            gcd = i\n",
    "    return gcd"
   ]
  },
  {
   "cell_type": "code",
   "execution_count": 26,
   "id": "ec1dc06c",
   "metadata": {},
   "outputs": [
    {
     "data": {
      "text/plain": [
       "30"
      ]
     },
     "execution_count": 26,
     "metadata": {},
     "output_type": "execute_result"
    }
   ],
   "source": [
    "gcd(30,60)"
   ]
  },
  {
   "cell_type": "code",
   "execution_count": 29,
   "id": "b8751dc4",
   "metadata": {},
   "outputs": [
    {
     "name": "stdout",
     "output_type": "stream",
     "text": [
      "30\n"
     ]
    }
   ],
   "source": [
    "a=30\n",
    "b=60\n",
    "for i in range(1,min(a, b) + 1):\n",
    "    if a % i == 0 and b % i == 0:\n",
    "        gcd=i\n",
    "print(gcd)\n"
   ]
  },
  {
   "cell_type": "code",
   "execution_count": 53,
   "id": "5c5b11cf",
   "metadata": {},
   "outputs": [],
   "source": [
    "\n",
    "def fibanci(n):\n",
    "    if n<=0:\n",
    "        return []\n",
    "    elif n==1:\n",
    "        return [0]\n",
    "    elif n==2:\n",
    "        return[0,1]\n",
    "    seq=fibanci(n-1)\n",
    "    seq.append(seq[-1]+seq[-2])\n",
    "    return seq\n",
    "    \n",
    "    \n"
   ]
  },
  {
   "cell_type": "code",
   "execution_count": 54,
   "id": "7fa3deb6",
   "metadata": {},
   "outputs": [
    {
     "data": {
      "text/plain": [
       "[0, 1, 1, 2, 3, 5, 8, 13, 21, 34]"
      ]
     },
     "execution_count": 54,
     "metadata": {},
     "output_type": "execute_result"
    }
   ],
   "source": [
    "fibanci(10)"
   ]
  },
  {
   "cell_type": "code",
   "execution_count": 38,
   "id": "a95fb296",
   "metadata": {},
   "outputs": [],
   "source": [
    "n=10\n",
    "fib=0\n",
    "lst=[]\n",
    "for i in range(1,n+1):\n",
    "    if i==1:\n",
    "        fib=0\n",
    "        lst.append(fib)\n",
    "    elif i==1 or i==2:\n",
    "        fib=1\n",
    "        lst.append(fib)\n",
    "    else:\n",
    "        fib=lst[-1]+lst[-2]\n",
    "        lst.append(fib)"
   ]
  },
  {
   "cell_type": "code",
   "execution_count": 39,
   "id": "53bbf3e7",
   "metadata": {},
   "outputs": [
    {
     "data": {
      "text/plain": [
       "[0, 1, 1, 2, 3, 5, 8, 13, 21, 34]"
      ]
     },
     "execution_count": 39,
     "metadata": {},
     "output_type": "execute_result"
    }
   ],
   "source": [
    "lst"
   ]
  },
  {
   "cell_type": "code",
   "execution_count": 55,
   "id": "df0bbaad",
   "metadata": {},
   "outputs": [
    {
     "name": "stdout",
     "output_type": "stream",
     "text": [
      "hsrada\n"
     ]
    }
   ],
   "source": [
    "s=\"adarsh\"\n",
    "rev=\"\"\n",
    "for i in s:\n",
    "    rev=i+rev\n",
    "print(rev)\n"
   ]
  },
  {
   "cell_type": "code",
   "execution_count": 62,
   "id": "cf3e0c93",
   "metadata": {},
   "outputs": [
    {
     "name": "stdout",
     "output_type": "stream",
     "text": [
      "10\n"
     ]
    }
   ],
   "source": [
    "n=1234\n",
    "sum=0\n",
    "for i in str(n):\n",
    "    sum+=int(i)\n",
    "\n",
    "print(sum)"
   ]
  },
  {
   "cell_type": "code",
   "execution_count": 71,
   "id": "92abc4b1",
   "metadata": {},
   "outputs": [],
   "source": [
    "def rev(s):\n",
    "    if len(s)<=1:\n",
    "        return s\n",
    "    return rev(s[1:])+s[0]\n"
   ]
  },
  {
   "cell_type": "code",
   "execution_count": 72,
   "id": "5227a69b",
   "metadata": {},
   "outputs": [
    {
     "data": {
      "text/plain": [
       "'hsrada'"
      ]
     },
     "execution_count": 72,
     "metadata": {},
     "output_type": "execute_result"
    }
   ],
   "source": [
    "rev(\"adarsh\")"
   ]
  },
  {
   "cell_type": "code",
   "execution_count": 57,
   "id": "6c760d42",
   "metadata": {},
   "outputs": [
    {
     "data": {
      "text/plain": [
       "'1234'"
      ]
     },
     "execution_count": 57,
     "metadata": {},
     "output_type": "execute_result"
    }
   ],
   "source": [
    "n=1234\n",
    "str(n)"
   ]
  },
  {
   "cell_type": "code",
   "execution_count": 68,
   "id": "b08080c9",
   "metadata": {},
   "outputs": [],
   "source": [
    "def power(a,b):\n",
    "    if b==0:\n",
    "        return 1\n",
    "    return a*power(a,b-1)"
   ]
  },
  {
   "cell_type": "code",
   "execution_count": 70,
   "id": "8ca68ace",
   "metadata": {},
   "outputs": [
    {
     "data": {
      "text/plain": [
       "16"
      ]
     },
     "execution_count": 70,
     "metadata": {},
     "output_type": "execute_result"
    }
   ],
   "source": [
    "power(2,4)"
   ]
  },
  {
   "cell_type": "code",
   "execution_count": 61,
   "id": "386ec391",
   "metadata": {},
   "outputs": [],
   "source": [
    "def print_forward(n):\n",
    "    if n==0:\n",
    "        return\n",
    "    print_forward(n-1)\n",
    "    print(n, end=\" \")"
   ]
  },
  {
   "cell_type": "code",
   "execution_count": null,
   "id": "55b98ab7",
   "metadata": {},
   "outputs": [],
   "source": []
  },
  {
   "cell_type": "code",
   "execution_count": 63,
   "id": "f23fecb2",
   "metadata": {},
   "outputs": [],
   "source": [
    "def print_backward(n):\n",
    "    if n==0:\n",
    "        return\n",
    "    print(n, end=\" \")\n",
    "    print_backward(n-1)\n",
    "    "
   ]
  },
  {
   "cell_type": "code",
   "execution_count": 64,
   "id": "1f720012",
   "metadata": {},
   "outputs": [
    {
     "name": "stdout",
     "output_type": "stream",
     "text": [
      "5 4 3 2 1 "
     ]
    }
   ],
   "source": [
    "print_backward(5)"
   ]
  },
  {
   "cell_type": "code",
   "execution_count": 76,
   "id": "fade131a",
   "metadata": {},
   "outputs": [
    {
     "name": "stdout",
     "output_type": "stream",
     "text": [
      "1 2 3 "
     ]
    }
   ],
   "source": [
    "for i in range(1, 4):\n",
    "    print(i, end=\" \")\n"
   ]
  },
  {
   "cell_type": "code",
   "execution_count": 80,
   "id": "854d6e28",
   "metadata": {},
   "outputs": [
    {
     "name": "stdout",
     "output_type": "stream",
     "text": [
      "1,2,3,"
     ]
    }
   ],
   "source": [
    "for i in range(1, 4):\n",
    "    print(i,end=',')\n"
   ]
  },
  {
   "cell_type": "code",
   "execution_count": null,
   "id": "47d919cb",
   "metadata": {},
   "outputs": [],
   "source": [
    "def count_lst(lst,num):\n",
    "    if not lst:\n",
    "        return 0\n",
    "    if lst[0]==num:\n",
    "        return 1+count_lst(lst[1:],num)\n",
    "    else:\n",
    "        return count_lst(lst[1:],num)"
   ]
  },
  {
   "cell_type": "code",
   "execution_count": 90,
   "id": "dc87cb94",
   "metadata": {},
   "outputs": [
    {
     "name": "stdout",
     "output_type": "stream",
     "text": [
      "0\n"
     ]
    }
   ],
   "source": [
    "numbers = [1, 2, 3, 2, 4, 2, 5,5,8,2]\n",
    "print(count_lst(numbers, 9)) "
   ]
  },
  {
   "cell_type": "code",
   "execution_count": 91,
   "id": "855a9114",
   "metadata": {},
   "outputs": [],
   "source": [
    "numbers = [1, 2, 3, 2, 4, 2, 5, 2]\n",
    "element_to_count = 2\n",
    "count=0\n",
    "for i in numbers:\n",
    "    if i==element_to_count:\n",
    "        count+=1\n"
   ]
  },
  {
   "cell_type": "code",
   "execution_count": null,
   "id": "31471e19",
   "metadata": {},
   "outputs": [],
   "source": [
    "def maxi(lst):\n",
    "    if len(lst)==1:\n",
    "        return lst[0]\n",
    "    return max(lst[0],maxi(lst[1:]))"
   ]
  },
  {
   "cell_type": "code",
   "execution_count": 104,
   "id": "60a9d06f",
   "metadata": {},
   "outputs": [
    {
     "data": {
      "text/plain": [
       "10"
      ]
     },
     "execution_count": 104,
     "metadata": {},
     "output_type": "execute_result"
    }
   ],
   "source": [
    "numbers = [3, 5, 10, 9, 1]\n",
    "maxi(numbers)"
   ]
  },
  {
   "cell_type": "code",
   "execution_count": 105,
   "id": "bc0a1086",
   "metadata": {},
   "outputs": [],
   "source": [
    "def find_max(lst):\n",
    "    if len(lst)==1:\n",
    "        return lst[0]\n",
    "    return lst[0] if lst[0]>find_max(lst[1:]) else find_max(lst[1:])"
   ]
  },
  {
   "cell_type": "code",
   "execution_count": 106,
   "id": "a32f504d",
   "metadata": {},
   "outputs": [
    {
     "data": {
      "text/plain": [
       "10"
      ]
     },
     "execution_count": 106,
     "metadata": {},
     "output_type": "execute_result"
    }
   ],
   "source": [
    "find_max(numbers)"
   ]
  },
  {
   "cell_type": "code",
   "execution_count": 132,
   "id": "d68044a5",
   "metadata": {},
   "outputs": [],
   "source": [
    "def polindrome(s):\n",
    "    if len(s)<=1:\n",
    "        return \"polindrome\"\n",
    "    if s[0]!=s[-1]:\n",
    "        return \"not polindrome\"\n",
    "    return polindrome(s[1:-1])\n",
    "\n",
    "    "
   ]
  },
  {
   "cell_type": "code",
   "execution_count": 133,
   "id": "bc07ab23",
   "metadata": {},
   "outputs": [
    {
     "data": {
      "text/plain": [
       "'polindrome'"
      ]
     },
     "execution_count": 133,
     "metadata": {},
     "output_type": "execute_result"
    }
   ],
   "source": [
    "polindrome(\"adda\")"
   ]
  },
  {
   "cell_type": "code",
   "execution_count": 1,
   "id": "2d208a38",
   "metadata": {},
   "outputs": [],
   "source": [
    "def fact(n):\n",
    "    if n==1:\n",
    "        return 1\n",
    "\n",
    "    return n* fact(n-1)"
   ]
  },
  {
   "cell_type": "code",
   "execution_count": 3,
   "id": "42398665",
   "metadata": {},
   "outputs": [
    {
     "data": {
      "text/plain": [
       "720"
      ]
     },
     "execution_count": 3,
     "metadata": {},
     "output_type": "execute_result"
    }
   ],
   "source": [
    "fact(6)"
   ]
  },
  {
   "cell_type": "code",
   "execution_count": 30,
   "id": "ef1652b1",
   "metadata": {},
   "outputs": [],
   "source": [
    "def lst_fac(n):\n",
    "    if n==1:\n",
    "        return [1]\n",
    "    fac=lst_fac(n-1)\n",
    "    fac.append(n*fac[-1])\n",
    "    return fac\n"
   ]
  },
  {
   "cell_type": "code",
   "execution_count": 33,
   "id": "6ced3383",
   "metadata": {},
   "outputs": [
    {
     "data": {
      "text/plain": [
       "[1, 2, 6, 24, 120, 720]"
      ]
     },
     "execution_count": 33,
     "metadata": {},
     "output_type": "execute_result"
    }
   ],
   "source": [
    "lst_fac(6)"
   ]
  },
  {
   "cell_type": "code",
   "execution_count": 14,
   "id": "c8e13aa2",
   "metadata": {},
   "outputs": [],
   "source": [
    "def fib(n):\n",
    "    if n==0:\n",
    "        return 0\n",
    "    elif n==1:\n",
    "        return 1\n",
    "    return fib(n-1)+fib(n-2)\n"
   ]
  },
  {
   "cell_type": "code",
   "execution_count": 15,
   "id": "4d6cbe88",
   "metadata": {},
   "outputs": [
    {
     "data": {
      "text/plain": [
       "8"
      ]
     },
     "execution_count": 15,
     "metadata": {},
     "output_type": "execute_result"
    }
   ],
   "source": [
    "fib(6)"
   ]
  },
  {
   "cell_type": "code",
   "execution_count": 37,
   "id": "75613bce",
   "metadata": {},
   "outputs": [],
   "source": [
    "def fib_lst(n):\n",
    "    if n==0:\n",
    "        return [0]\n",
    "    elif n==1:\n",
    "        return [0,1]\n",
    "    lst = fib_lst(n-1)\n",
    "    lst.append(lst[-1]+lst[-2])\n",
    "    return lst"
   ]
  },
  {
   "cell_type": "code",
   "execution_count": 43,
   "id": "a7ee8838",
   "metadata": {},
   "outputs": [
    {
     "data": {
      "text/plain": [
       "[0, 1]"
      ]
     },
     "execution_count": 43,
     "metadata": {},
     "output_type": "execute_result"
    }
   ],
   "source": [
    "fib_lst(1)"
   ]
  },
  {
   "cell_type": "code",
   "execution_count": 48,
   "id": "b1e78aa2",
   "metadata": {},
   "outputs": [],
   "source": [
    "def sum_n(n):\n",
    "    if n<1:\n",
    "        return \"not a natural num\"\n",
    "    elif n==1:\n",
    "        return 1\n",
    "    return n+sum_n(n-1)\n"
   ]
  },
  {
   "cell_type": "code",
   "execution_count": 53,
   "id": "3eea13a5",
   "metadata": {},
   "outputs": [
    {
     "data": {
      "text/plain": [
       "45"
      ]
     },
     "execution_count": 53,
     "metadata": {},
     "output_type": "execute_result"
    }
   ],
   "source": [
    "sum_n(9)"
   ]
  },
  {
   "cell_type": "code",
   "execution_count": 58,
   "id": "97020371",
   "metadata": {},
   "outputs": [],
   "source": [
    "def forward_print(n):\n",
    "    if n==1:\n",
    "        return [1]\n",
    "    fp=forward_print(n-1)\n",
    "    fp.append(n)\n",
    "    return fp"
   ]
  },
  {
   "cell_type": "code",
   "execution_count": 59,
   "id": "cc8ea7df",
   "metadata": {},
   "outputs": [
    {
     "data": {
      "text/plain": [
       "[1, 2, 3, 4, 5, 6]"
      ]
     },
     "execution_count": 59,
     "metadata": {},
     "output_type": "execute_result"
    }
   ],
   "source": [
    "forward_print(6)"
   ]
  },
  {
   "cell_type": "code",
   "execution_count": null,
   "id": "6618e6fe",
   "metadata": {},
   "outputs": [],
   "source": [
    "def backward_print(n):\n",
    "    if n==n:\n",
    "        return [n]\n",
    "    bp=backward_print(n+1)\n",
    "    bp.append(n-1)  \n",
    "    return bp"
   ]
  },
  {
   "cell_type": "code",
   "execution_count": 67,
   "id": "7a572363",
   "metadata": {},
   "outputs": [
    {
     "data": {
      "text/plain": [
       "[4]"
      ]
     },
     "execution_count": 67,
     "metadata": {},
     "output_type": "execute_result"
    }
   ],
   "source": [
    "backward_print(4)"
   ]
  },
  {
   "cell_type": "code",
   "execution_count": 68,
   "id": "5ab5027c",
   "metadata": {},
   "outputs": [
    {
     "name": "stdout",
     "output_type": "stream",
     "text": [
      "5 4 3 2 1 "
     ]
    }
   ],
   "source": [
    "for i in range(5, 0, -1):\n",
    "    print(i, end=\" \")\n"
   ]
  },
  {
   "cell_type": "code",
   "execution_count": 72,
   "id": "db35ab39",
   "metadata": {},
   "outputs": [
    {
     "name": "stdout",
     "output_type": "stream",
     "text": [
      "5 4 3 2 1 0 -1 -2 "
     ]
    }
   ],
   "source": [
    "for i in range(5, -3,-1):\n",
    "    print(i, end=\" \")\n"
   ]
  },
  {
   "cell_type": "code",
   "execution_count": 74,
   "id": "34f82e3b",
   "metadata": {},
   "outputs": [
    {
     "name": "stdout",
     "output_type": "stream",
     "text": [
      "[5, 4, 3, 2, 1]\n"
     ]
    }
   ],
   "source": [
    "n = 5\n",
    "lst=[]\n",
    "while n > 0:\n",
    "    lst.append(n)\n",
    "    n -= 1\n",
    "print(lst)\n",
    "    \n"
   ]
  },
  {
   "cell_type": "code",
   "execution_count": 80,
   "id": "402d121e",
   "metadata": {},
   "outputs": [
    {
     "name": "stdout",
     "output_type": "stream",
     "text": [
      "Im adarsh\n"
     ]
    }
   ],
   "source": [
    "f=open(\"practice.txt\")\n",
    "data=f.read()\n",
    "print(data)\n",
    "f.close()"
   ]
  },
  {
   "cell_type": "code",
   "execution_count": 82,
   "id": "093152b6",
   "metadata": {},
   "outputs": [],
   "source": [
    "st=\"im from manglore\"\n",
    "f=open(\"practice.txt\", \"a\")\n",
    "f.write(st)\n",
    "f.close()"
   ]
  },
  {
   "cell_type": "code",
   "execution_count": 94,
   "id": "59f31dcc",
   "metadata": {},
   "outputs": [
    {
     "name": "stdout",
     "output_type": "stream",
     "text": [
      "3,90,000\n"
     ]
    }
   ],
   "source": [
    "class Employee:\n",
    "    language=\"python\"\n",
    "    slary=\"3,90,000\"\n",
    "\n",
    "adi=Employee()\n",
    "Employee.name=\"adarsh\"\n",
    "print(Employee.slary)\n"
   ]
  },
  {
   "cell_type": "code",
   "execution_count": null,
   "id": "efa8c888",
   "metadata": {},
   "outputs": [
    {
     "name": "stdout",
     "output_type": "stream",
     "text": [
      "Good Morning adarsh\n",
      "adarsh his language is JS. The salary is 150000\n",
      "Okay Bye!\n",
      "Okay Bye!\n"
     ]
    }
   ],
   "source": [
    "class Employee:\n",
    "    language=\"English\"\n",
    "    salary=150000\n",
    "    def getInfo(self):\n",
    "        print(f\"{self.name} his language is {self.language}. The salary is {self.salary}\")\n",
    "    \n",
    "    def greet(self):\n",
    "        print(f\"Good Morning {self.name}\")\n",
    "        # return \"Good morning\"\n",
    "    @staticmethod\n",
    "    def bye():\n",
    "        print(\"Okay Bye!\")\n",
    "\n",
    "adi = Employee()\n",
    "adi.name=\"adarsh\"\n",
    "adi.language=\"JS\"\n",
    "adi.greet()\n",
    "adi.getInfo()\n",
    "Employee.bye()\n",
    "adi.bye()"
   ]
  },
  {
   "cell_type": "code",
   "execution_count": 117,
   "id": "54ccfcb7",
   "metadata": {},
   "outputs": [
    {
     "name": "stdout",
     "output_type": "stream",
     "text": [
      "Creating an object\n",
      "Good Morning adarsh\n",
      "adarsh his language is english. The salary is 2000000\n",
      "Okay Bye!\n"
     ]
    }
   ],
   "source": [
    "#Constructor\n",
    "class Employee:\n",
    "    language=\"Python\"\n",
    "    salary=150000\n",
    "\n",
    "    def __init__(self,name,salary,language):\n",
    "        self.name=name\n",
    "        self.salary=salary\n",
    "        self.language=language\n",
    "        \n",
    "        print(\"Creating an object\")\n",
    "    def getInfo(self):\n",
    "        \n",
    "        \n",
    "        print(f\"{self.name} his language is {self.language}. The salary is {self.salary}\")\n",
    "    \n",
    "    def greet(self):\n",
    "        print(f\"Good Morning {self.name}\")\n",
    "        # return \"Good morning\"\n",
    "    @staticmethod\n",
    "    def bye():\n",
    "        print(\"Okay Bye!\")\n",
    "\n",
    "adi = Employee(\"adarsh\",2000000,\"english\")\n",
    "adi.name=\"adarsh\"\n",
    "# adi.language=\"JS\"\n",
    "adi.greet()\n",
    "adi.getInfo()\n",
    "adi.bye()"
   ]
  },
  {
   "cell_type": "code",
   "execution_count": 126,
   "id": "f6e0d6fd",
   "metadata": {},
   "outputs": [
    {
     "name": "stdout",
     "output_type": "stream",
     "text": [
      "adi his salary is 1200 from 574239 working at Microsoft\n",
      "rohan his salary is 1800 from 560085 working at Microsoft\n",
      "mithun his salary is 2500 from 572323 working at Microsoft\n"
     ]
    }
   ],
   "source": [
    "class Programmer:\n",
    "    company=\"Microsoft\"\n",
    "\n",
    "    # def __init__(self,name,salary,language):\n",
    "    #     self.name=name\n",
    "    #     self.salary=salary\n",
    "    #     self.language=language\n",
    "        \n",
    "    #     print(\"Creating an object\")\n",
    "    def __init__(self,name,salary,pin):\n",
    "        self.name=name\n",
    "        self.salary=salary\n",
    "        self.pin=pin\n",
    "        \n",
    "        \n",
    "        print(f\"{self.name} his salary is {self.salary} from {self.pin} working at {self.company}\")\n",
    "\n",
    "p=Programmer(\"adi\",1200,\"574239\")\n",
    "r=Programmer(\"rohan\",1800,\"560085\")\n",
    "m=Programmer(\"mithun\",2500,\"572323\")\n",
    "\n",
    "    "
   ]
  },
  {
   "cell_type": "code",
   "execution_count": 4,
   "id": "13fad928",
   "metadata": {},
   "outputs": [
    {
     "name": "stdout",
     "output_type": "stream",
     "text": [
      "1\n",
      "2\n",
      "3\n",
      "4\n",
      "5\n",
      "6\n",
      "7\n",
      "8\n",
      "9\n",
      "10\n"
     ]
    }
   ],
   "source": [
    "for i in range(10):\n",
    "    i+=1\n",
    "    print(i)"
   ]
  },
  {
   "cell_type": "code",
   "execution_count": null,
   "id": "61138dab",
   "metadata": {},
   "outputs": [],
   "source": []
  }
 ],
 "metadata": {
  "kernelspec": {
   "display_name": "venv",
   "language": "python",
   "name": "python3"
  },
  "language_info": {
   "codemirror_mode": {
    "name": "ipython",
    "version": 3
   },
   "file_extension": ".py",
   "mimetype": "text/x-python",
   "name": "python",
   "nbconvert_exporter": "python",
   "pygments_lexer": "ipython3",
   "version": "3.13.3"
  }
 },
 "nbformat": 4,
 "nbformat_minor": 5
}
