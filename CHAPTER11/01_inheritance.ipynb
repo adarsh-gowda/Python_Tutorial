{
 "cells": [
  {
   "cell_type": "markdown",
   "id": "229958ee",
   "metadata": {},
   "source": [
    "🧩 Concept:\n",
    "\n",
    "Inheritance allows a class (child/derived) to acquire properties and methods from another class (parent/base)."
   ]
  },
  {
   "cell_type": "code",
   "execution_count": 10,
   "id": "8185d5c7",
   "metadata": {},
   "outputs": [
    {
     "name": "stdout",
     "output_type": "stream",
     "text": [
      "Hello  from parent class\n",
      "Hello from child class\n",
      "Hello  from parent class\n"
     ]
    }
   ],
   "source": [
    "class Parent:\n",
    "    def greet(self):\n",
    "        print(\"Hello  from parent class\")\n",
    "class Child(Parent):\n",
    "    def hello(self):\n",
    "        print(\"Hello from child class\")\n",
    "\n",
    "obj=Child()\n",
    "obj.greet()\n",
    "obj.hello()\n",
    "\n",
    "obj2=Parent()\n",
    "obj2.greet()\n",
    "# obj2.hello()"
   ]
  },
  {
   "cell_type": "code",
   "execution_count": 19,
   "id": "423a7717",
   "metadata": {},
   "outputs": [
    {
     "name": "stdout",
     "output_type": "stream",
     "text": [
      "starting engine\n",
      "Full speed , handle break , thu.. thu.. drift\n"
     ]
    }
   ],
   "source": [
    "class vehicle:\n",
    "    def star_engine(self):\n",
    "        print(\"starting engine\")\n",
    "\n",
    "class car(vehicle):\n",
    "    def drive(self):\n",
    "        print(\"Full speed , handle break , thu.. thu.. drift\")\n",
    "obj=car()\n",
    "obj.star_engine()\n",
    "obj.drive()"
   ]
  },
  {
   "cell_type": "code",
   "execution_count": null,
   "id": "c3a8f080",
   "metadata": {},
   "outputs": [],
   "source": []
  }
 ],
 "metadata": {
  "kernelspec": {
   "display_name": "Python 3",
   "language": "python",
   "name": "python3"
  },
  "language_info": {
   "codemirror_mode": {
    "name": "ipython",
    "version": 3
   },
   "file_extension": ".py",
   "mimetype": "text/x-python",
   "name": "python",
   "nbconvert_exporter": "python",
   "pygments_lexer": "ipython3",
   "version": "3.12.10"
  }
 },
 "nbformat": 4,
 "nbformat_minor": 5
}
