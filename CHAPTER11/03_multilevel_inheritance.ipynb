{
 "cells": [
  {
   "cell_type": "markdown",
   "id": "d8d350d8",
   "metadata": {},
   "source": [
    "🧩 Concept:\n",
    "\n",
    "Inheritance through multiple levels (grandparent → parent → child)."
   ]
  },
  {
   "cell_type": "code",
   "execution_count": 2,
   "id": "85c15b0f",
   "metadata": {},
   "outputs": [
    {
     "name": "stdout",
     "output_type": "stream",
     "text": [
      "Has ancestral house\n",
      "Owns a car\n",
      "Rides a bike\n"
     ]
    }
   ],
   "source": [
    "class Grandparent:\n",
    "    def property(self):\n",
    "        print(\"Has ancestral house\")\n",
    "\n",
    "class Parent(Grandparent):\n",
    "    def car(self):\n",
    "        print(\"Owns a car\")\n",
    "\n",
    "class Child(Parent):\n",
    "    def bike(self):\n",
    "        print(\"Rides a bike\")\n",
    "\n",
    "obj = Child()\n",
    "obj.property()\n",
    "obj.car()\n",
    "obj.bike()\n"
   ]
  },
  {
   "cell_type": "code",
   "execution_count": null,
   "id": "4c5dc711",
   "metadata": {},
   "outputs": [],
   "source": []
  }
 ],
 "metadata": {
  "kernelspec": {
   "display_name": "Python 3",
   "language": "python",
   "name": "python3"
  },
  "language_info": {
   "codemirror_mode": {
    "name": "ipython",
    "version": 3
   },
   "file_extension": ".py",
   "mimetype": "text/x-python",
   "name": "python",
   "nbconvert_exporter": "python",
   "pygments_lexer": "ipython3",
   "version": "3.12.10"
  }
 },
 "nbformat": 4,
 "nbformat_minor": 5
}
