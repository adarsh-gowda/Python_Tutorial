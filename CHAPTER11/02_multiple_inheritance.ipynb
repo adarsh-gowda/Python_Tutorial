{
 "cells": [
  {
   "cell_type": "markdown",
   "id": "4947e488",
   "metadata": {},
   "source": [
    "🧩 Concept:\n",
    "\n",
    "A class can inherit from more than one parent."
   ]
  },
  {
   "cell_type": "code",
   "execution_count": 2,
   "id": "9c2706d6",
   "metadata": {},
   "outputs": [
    {
     "name": "stdout",
     "output_type": "stream",
     "text": [
      "Can drive\n",
      "Can cook\n",
      "Loves painting\n",
      "Topper\n"
     ]
    }
   ],
   "source": [
    "class Father:\n",
    "    def skill(self):\n",
    "        print(\"Can drive\")\n",
    "\n",
    "class Mother:\n",
    "    def talent(self):\n",
    "        print(\"Can cook\")\n",
    "class sister:\n",
    "    def read(self):\n",
    "        print(\"Topper\")\n",
    "\n",
    "class Child(Father, Mother,sister):\n",
    "    def hobby(self):\n",
    "        print(\"Loves painting\")\n",
    "\n",
    "c = Child()\n",
    "c.skill()\n",
    "c.talent()\n",
    "c.hobby()\n",
    "c.read()\n"
   ]
  },
  {
   "cell_type": "code",
   "execution_count": null,
   "id": "9e60b21d",
   "metadata": {},
   "outputs": [],
   "source": []
  }
 ],
 "metadata": {
  "kernelspec": {
   "display_name": "Python 3",
   "language": "python",
   "name": "python3"
  },
  "language_info": {
   "codemirror_mode": {
    "name": "ipython",
    "version": 3
   },
   "file_extension": ".py",
   "mimetype": "text/x-python",
   "name": "python",
   "nbconvert_exporter": "python",
   "pygments_lexer": "ipython3",
   "version": "3.12.10"
  }
 },
 "nbformat": 4,
 "nbformat_minor": 5
}
